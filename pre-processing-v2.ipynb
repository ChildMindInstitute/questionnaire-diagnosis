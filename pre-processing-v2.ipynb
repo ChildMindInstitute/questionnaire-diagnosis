{
 "cells": [
  {
   "cell_type": "markdown",
   "metadata": {},
   "source": [
    "# Pre-processing the childmind questionnaire data\n",
    "\n",
    "This notebook collects helping scripts and functions aiming to:\n",
    "\n",
    "1. Drop aggregate variables;\n",
    "2. Process the diagnosis columns into binary variables;\n",
    "3. Print markdown for linking to keys;\n",
    "4. Print string to keep variables.\n",
    "\n",
    "The code below is quite hacky - in most other repos I would not check it in. But since I haven't figured out versioning for this process..."
   ]
  },
  {
   "cell_type": "code",
   "execution_count": null,
   "metadata": {},
   "outputs": [],
   "source": [
    "import numpy as np\n",
    "import pandas as pd"
   ]
  },
  {
   "cell_type": "code",
   "execution_count": null,
   "metadata": {},
   "outputs": [],
   "source": [
    "# Read in version two of the childmind data\n",
    "df = pd.read_csv('resources/questions_and_mri_subset.csv')"
   ]
  },
  {
   "cell_type": "code",
   "execution_count": null,
   "metadata": {},
   "outputs": [],
   "source": [
    "# Implement function that ensure keeping of all imaging features and demographics and major diagnoses.\n",
    "def check_if_image_features(col_name):\n",
    "    return (\"area\" in col_name) or (\"thickness\" in col_name) or (\"volume\" in col_name)\n",
    "def check_if_keeper(col_name):\n",
    "    return col_name in ['Sex', 'Age', 'Anx', 'ADHD subtype', 'ASD']"
   ]
  },
  {
   "cell_type": "code",
   "execution_count": null,
   "metadata": {},
   "outputs": [],
   "source": [
    "# Drop all the aggregate columns\n",
    "for col in df.columns:\n",
    "    suffix = col.split('_')[-1]\n",
    "    if check_if_image_features(col) or check_if_keeper(col):\n",
    "        pass\n",
    "    else:\n",
    "        suffix = col.split('_')[-1]\n",
    "        if not suffix.isdigit():\n",
    "            del df[col]"
   ]
  },
  {
   "cell_type": "code",
   "execution_count": null,
   "metadata": {},
   "outputs": [],
   "source": [
    "# Check how many columns need to be dropped.\n",
    "total_cols = df.columns.shape[0]\n",
    "drop = total_cols - 999"
   ]
  },
  {
   "cell_type": "code",
   "execution_count": null,
   "metadata": {},
   "outputs": [],
   "source": [
    "# Get all questionnaire columns.\n",
    "questionnaire_cols = []\n",
    "for col in df.columns:\n",
    "    if not (check_if_image_features(col) or check_if_keeper(col)):   \n",
    "        questionnaire_cols.append(col)"
   ]
  },
  {
   "cell_type": "code",
   "execution_count": null,
   "metadata": {},
   "outputs": [],
   "source": [
    "# Drop a number of questionnaire items.\n",
    "cols_to_drop = np.random.choice(questionnaire_cols, size=drop, replace=False)\n",
    "for col in cols_to_drop:\n",
    "    print 'Dropping %s' % (col,)\n",
    "    del df[col]"
   ]
  },
  {
   "cell_type": "code",
   "execution_count": null,
   "metadata": {},
   "outputs": [],
   "source": [
    "assert df.columns.shape[0] == 999"
   ]
  },
  {
   "cell_type": "code",
   "execution_count": null,
   "metadata": {},
   "outputs": [],
   "source": [
    "df.to_csv('resources/questions_and_mri_structured_subsample.csv', index=False)"
   ]
  }
 ],
 "metadata": {
  "kernelspec": {
   "display_name": "Python 2",
   "language": "python",
   "name": "python2"
  },
  "language_info": {
   "codemirror_mode": {
    "name": "ipython",
    "version": 2
   },
   "file_extension": ".py",
   "mimetype": "text/x-python",
   "name": "python",
   "nbconvert_exporter": "python",
   "pygments_lexer": "ipython2",
   "version": "2.7.11"
  }
 },
 "nbformat": 4,
 "nbformat_minor": 2
}
