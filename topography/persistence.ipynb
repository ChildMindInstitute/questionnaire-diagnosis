{
 "cells": [
  {
   "cell_type": "code",
   "execution_count": 167,
   "metadata": {
    "collapsed": true
   },
   "outputs": [],
   "source": [
    "data = \"/Users/jon.clucas/probcomp/train_test_data/unsplit_no_totals.csv\""
   ]
  },
  {
   "cell_type": "code",
   "execution_count": 213,
   "metadata": {},
   "outputs": [],
   "source": [
    "import numpy as np\n",
    "import pandas as pd\n",
    "import phat\n",
    "\n",
    "\n",
    "def vector_vector(df):\n",
    "    d = list(list(df.loc[df[c]].index.values) for c in df.columns)\n",
    "    return(d)\n",
    "\n",
    "\n",
    "def vector_vector_T(df):\n",
    "    df_T = df.T\n",
    "    df_T.reset_index(inplace=True)\n",
    "    d = list(list(df_T.loc[df_T[c]].index.values) for c in [c for c in df_T.columns if c != \"index\"])\n",
    "    return(d)"
   ]
  },
  {
   "cell_type": "code",
   "execution_count": 169,
   "metadata": {
    "collapsed": true
   },
   "outputs": [],
   "source": [
    "df = pd.read_csv(data)"
   ]
  },
  {
   "cell_type": "code",
   "execution_count": 170,
   "metadata": {
    "collapsed": true
   },
   "outputs": [],
   "source": [
    "dxes = {(\"Anx\", \"adhd\", \"asd\"):\n",
    "           {(0,0,0),\n",
    "           (1,0,0),\n",
    "           (0,1,0),\n",
    "           (0,0,1),\n",
    "           (1,1,0),\n",
    "           (1,0,1),\n",
    "           (0,1,1),\n",
    "           (1,1,1)}\n",
    "       }"
   ]
  },
  {
   "cell_type": "code",
   "execution_count": 171,
   "metadata": {
    "collapsed": true
   },
   "outputs": [],
   "source": [
    "subdfs = {}\n",
    "for k in dxes:\n",
    "    for r in dxes[k]:\n",
    "        d = set(zip(k, r))\n",
    "        subdfs[str(dict(d))] = df.loc[\n",
    "            eval(\n",
    "                \" & \".join(\n",
    "                    {\n",
    "                        \"(df[\\\"{0}\\\"] == {1})\".format(key, value) for key, value in d\n",
    "                    }\n",
    "                )\n",
    "            )\n",
    "        ].copy()"
   ]
  },
  {
   "cell_type": "code",
   "execution_count": 172,
   "metadata": {},
   "outputs": [
    {
     "name": "stdout",
     "output_type": "stream",
     "text": [
      "{'adhd': 1, 'asd': 0, 'Anx': 1} : 19\n",
      "{'asd': 1, 'adhd': 1, 'Anx': 0} : 12\n",
      "{'asd': 1, 'adhd': 1, 'Anx': 1} : 13\n",
      "{'asd': 0, 'Anx': 1, 'adhd': 0} : 17\n",
      "{'asd': 1, 'Anx': 0, 'adhd': 0} : 6\n",
      "{'asd': 1, 'Anx': 1, 'adhd': 0} : 3\n",
      "{'Anx': 0, 'asd': 0, 'adhd': 0} : 91\n",
      "{'adhd': 1, 'Anx': 0, 'asd': 0} : 60\n"
     ]
    }
   ],
   "source": [
    "for n in subdfs:\n",
    "    print(n, \":\", len(subdfs[n]))"
   ]
  },
  {
   "cell_type": "code",
   "execution_count": 215,
   "metadata": {},
   "outputs": [
    {
     "name": "stdout",
     "output_type": "stream",
     "text": [
      "The boundary matrix has 0 columns:\n",
      "Overall, the boundary matrix has 0 entries.\n",
      "\n",
      "There are 0 persistence pairs: \n",
      "The boundary matrix has 0 columns:\n",
      "Overall, the boundary matrix has 0 entries.\n",
      "\n",
      "There are 0 persistence pairs: \n",
      "The boundary matrix has 0 columns:\n",
      "Overall, the boundary matrix has 0 entries.\n",
      "\n",
      "There are 0 persistence pairs: \n",
      "The boundary matrix has 0 columns:\n",
      "Overall, the boundary matrix has 0 entries.\n",
      "\n",
      "There are 0 persistence pairs: \n",
      "The boundary matrix has 0 columns:\n",
      "Overall, the boundary matrix has 0 entries.\n",
      "\n",
      "There are 0 persistence pairs: \n",
      "The boundary matrix has 0 columns:\n",
      "Overall, the boundary matrix has 0 entries.\n",
      "\n",
      "There are 0 persistence pairs: \n",
      "The boundary matrix has 0 columns:\n",
      "Overall, the boundary matrix has 0 entries.\n",
      "\n",
      "There are 0 persistence pairs: \n",
      "The boundary matrix has 0 columns:\n",
      "Overall, the boundary matrix has 0 entries.\n",
      "\n",
      "There are 0 persistence pairs: \n"
     ]
    }
   ],
   "source": [
    "for n in subdfs:\n",
    "    df_in_use = subdfs[n].loc[subdfs[n][\"train\"]].drop(\n",
    "        [\"Dx\", \"Anx\", \"adhd\", \"asd\", \"train\", \"Sex\", \"Age\", \"EID\"],\n",
    "        axis=1\n",
    "    ).copy()\n",
    "    df_in_use.reset_index(inplace=True, drop=True)\n",
    "    for col in [col for col in df_in_use.columns if col != \"EID\"]:\n",
    "        df_in_use[col] = (df_in_use[col] == max(df_in_use[col]))\n",
    "    boundary_matrix = phat.boundary_matrix(representation = phat.representations.vector_vector)\n",
    "\n",
    "    boundary_matrix.source = vector_vector_T(df_in_use)\n",
    "    \n",
    "    print(\"The boundary matrix has %d columns:\" % len(boundary_matrix.columns))\n",
    "    for col in boundary_matrix.columns:\n",
    "        s = \"Column %d represents a cell of dimension %d.\" % (col.index, col.dimension)\n",
    "        if (col.boundary):\n",
    "            s = s + \" Its boundary consists of the cells \" + \" \".join([str(c) for c in col.boundary])\n",
    "        print(s)\n",
    "    print(\"Overall, the boundary matrix has %d entries.\" % len(boundary_matrix))\n",
    "\n",
    "    pairs = boundary_matrix.compute_persistence_pairs()\n",
    "\n",
    "    pairs.sort()\n",
    "\n",
    "    print()\n",
    "    print(\"There are %d persistence pairs: \" % len(pairs))\n",
    "    for pair in pairs:\n",
    "        print(\"Birth: %d, Death: %d\" % pair)\n"
   ]
  }
 ],
 "metadata": {
  "kernelspec": {
   "display_name": "Python 3",
   "language": "python",
   "name": "python3"
  },
  "language_info": {
   "codemirror_mode": {
    "name": "ipython",
    "version": 3
   },
   "file_extension": ".py",
   "mimetype": "text/x-python",
   "name": "python",
   "nbconvert_exporter": "python",
   "pygments_lexer": "ipython3",
   "version": "3.6.2"
  }
 },
 "nbformat": 4,
 "nbformat_minor": 2
}
