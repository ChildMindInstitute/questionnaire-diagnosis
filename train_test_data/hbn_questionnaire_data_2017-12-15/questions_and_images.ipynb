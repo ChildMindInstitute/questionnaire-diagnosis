{
 "cells": [
  {
   "cell_type": "code",
   "execution_count": 1,
   "metadata": {},
   "outputs": [],
   "source": [
    "%load_ext autoreload\n",
    "%autoreload 2"
   ]
  },
  {
   "cell_type": "code",
   "execution_count": 2,
   "metadata": {},
   "outputs": [],
   "source": [
    "import os\n",
    "import pandas as pd\n",
    "import sys\n",
    "ancestor = os.path.abspath(os.path.join(os.pardir, os.pardir))\n",
    "if ancestor not in sys.path:\n",
    "    sys.path.append(ancestor)\n",
    "    sys.path.append(os.pardir)\n",
    "from classifier import get_Dx, pair_diagnoses, asd, adhd, anx\n",
    "from CrossCat.functions import dependent_variables, mri_features"
   ]
  },
  {
   "cell_type": "code",
   "execution_count": 3,
   "metadata": {
    "collapsed": true
   },
   "outputs": [],
   "source": [
    "testing1_ASD = pd.read_csv('testing1_ASD.csv')"
   ]
  },
  {
   "cell_type": "code",
   "execution_count": 4,
   "metadata": {
    "collapsed": true
   },
   "outputs": [],
   "source": [
    "training1_ASD = pd.read_csv('training1_ASD.csv')"
   ]
  },
  {
   "cell_type": "code",
   "execution_count": 5,
   "metadata": {
    "collapsed": true
   },
   "outputs": [],
   "source": [
    "mri_df = pair_diagnoses(\n",
    "    pd.DataFrame({\n",
    "        \"index\": [\n",
    "            d for d in os.listdir(\n",
    "                os.path.join(\n",
    "                    os.pardir,\n",
    "                    \"fMRI\"\n",
    "                )\n",
    "            ) if d.startswith(\"N\")\n",
    "        ]\n",
    "    }).set_index(\"index\"),\n",
    "    get_Dx()\n",
    ").reset_index().rename(\n",
    "    index=str,\n",
    "    columns={\n",
    "        \"index\": \"EID\"\n",
    "    }\n",
    ")"
   ]
  },
  {
   "cell_type": "code",
   "execution_count": 6,
   "metadata": {},
   "outputs": [],
   "source": [
    "mri_subtypes = \"mri_subtypes.csv\"\n",
    "mri_df.to_csv(\n",
    "    mri_subtypes,\n",
    "    index=False\n",
    ")\n",
    "dependent_variables(mri_subtypes)"
   ]
  },
  {
   "cell_type": "code",
   "execution_count": 7,
   "metadata": {},
   "outputs": [],
   "source": [
    "mri_table = pair_diagnoses(\n",
    "    pd.concat([mri_features(d) for d in os.listdir(\n",
    "        os.path.join(\n",
    "            os.pardir,\n",
    "            \"fMRI\"\n",
    "        )\n",
    "    ) if d.startswith(\"N\")]),\n",
    "    get_Dx()\n",
    ").reset_index().rename(\n",
    "    index=str,\n",
    "    columns={\n",
    "        \"index\": \"EID\"\n",
    "    }\n",
    ")\n",
    "mri_table[\"ADHD subtype\"] = mri_table[\"Dx\"].apply(\n",
    "    lambda x: \", \".join([\n",
    "        s for s in x if \"ADHD\" in s\n",
    "    ])\n",
    ")\n",
    "mri_table[\"ASD\"] = mri_table[\"Dx\"].apply(\n",
    "    lambda x: True if(\n",
    "        len(\n",
    "            \", \".join([\n",
    "                s for s in x if \"Autism\" in s\n",
    "            ])\n",
    "        )\n",
    "    ) else False\n",
    ")"
   ]
  },
  {
   "cell_type": "code",
   "execution_count": 8,
   "metadata": {},
   "outputs": [],
   "source": [
    "mri_table.to_csv(\n",
    "    \"all_MRI_features.csv\",\n",
    "    index=False\n",
    ")\n",
    "dependent_variables(\"all_MRI_features.csv\")\n",
    "mri_table = pd.read_csv(\"all_MRI_features.csv\")"
   ]
  },
  {
   "cell_type": "code",
   "execution_count": 9,
   "metadata": {
    "collapsed": true
   },
   "outputs": [],
   "source": [
    "full_set = pd.merge(\n",
    "    pd.concat([\n",
    "        testing1_ASD.drop(\n",
    "            [\n",
    "                \"train\",\n",
    "                \"Dx2\"\n",
    "            ],\n",
    "            axis=1\n",
    "        ),\n",
    "        training1_ASD.drop(\n",
    "            [\n",
    "                \"train\",\n",
    "                \"Dx2\"\n",
    "            ],\n",
    "            axis=1\n",
    "        )\n",
    "    ]),\n",
    "    mri_table,\n",
    "    on=[\n",
    "        \"EID\",\n",
    "        \"Dx\",\n",
    "        \"ADHD subtype\",\n",
    "        \"ASD\"\n",
    "    ],\n",
    "    how=\"outer\"\n",
    ")"
   ]
  },
  {
   "cell_type": "code",
   "execution_count": 10,
   "metadata": {},
   "outputs": [],
   "source": [
    "full_set = full_set.set_index(\"EID\")"
   ]
  },
  {
   "cell_type": "code",
   "execution_count": 11,
   "metadata": {
    "collapsed": true
   },
   "outputs": [],
   "source": [
    "full_set.to_csv(\n",
    "    \"all_features.csv\"\n",
    ")"
   ]
  },
  {
   "cell_type": "code",
   "execution_count": 12,
   "metadata": {},
   "outputs": [],
   "source": [
    "five_hundred = mri_table.copy()\n",
    "for c in five_hundred.columns:\n",
    "    if \"_ants\" in c:\n",
    "        five_hundred.drop(\n",
    "            c,\n",
    "            axis=1,\n",
    "            inplace=True\n",
    "        )"
   ]
  },
  {
   "cell_type": "code",
   "execution_count": 13,
   "metadata": {},
   "outputs": [],
   "source": [
    "five_hundred = five_hundred[\n",
    "    [\n",
    "        *[\n",
    "            c for c in five_hundred.columns if (\n",
    "                \"vol\" in c\n",
    "            ) or (\n",
    "                \"area\" in c\n",
    "            ) or (\n",
    "                \"thickinthehead\" in c\n",
    "            ) or (\n",
    "                (\n",
    "                    \"mean curvature\" in c\n",
    "                ) and (\n",
    "                    \"median\" in c\n",
    "                ) and (\n",
    "                    \"label\" in c\n",
    "                )\n",
    "            )\n",
    "        ],\n",
    "        \"EID\",\n",
    "        \"Dx\",\n",
    "        \"ADHD subtype\",\n",
    "        \"ASD\"\n",
    "    ]\n",
    "]"
   ]
  },
  {
   "cell_type": "code",
   "execution_count": 14,
   "metadata": {
    "collapsed": true
   },
   "outputs": [],
   "source": [
    "subset = pd.merge(\n",
    "    pd.concat([\n",
    "        testing1_ASD.drop(\n",
    "            [\n",
    "                \"train\",\n",
    "                \"Dx2\"\n",
    "            ],\n",
    "            axis=1\n",
    "        ),\n",
    "        training1_ASD.drop(\n",
    "            [\n",
    "                \"train\",\n",
    "                \"Dx2\"\n",
    "            ],\n",
    "            axis=1\n",
    "        )\n",
    "    ]),\n",
    "    five_hundred,\n",
    "    on=[\n",
    "        \"EID\",\n",
    "        \"Dx\",\n",
    "        \"ADHD subtype\",\n",
    "        \"ASD\"\n",
    "    ],\n",
    "    how=\"outer\"\n",
    ")"
   ]
  },
  {
   "cell_type": "code",
   "execution_count": 15,
   "metadata": {},
   "outputs": [],
   "source": [
    "subset = subset.set_index(\"EID\")\n",
    "subset.to_csv(\"questions_and_mri_subset.csv\")"
   ]
  }
 ],
 "metadata": {
  "kernelspec": {
   "display_name": "Python 3",
   "language": "python",
   "name": "python3"
  },
  "language_info": {
   "codemirror_mode": {
    "name": "ipython",
    "version": 3
   },
   "file_extension": ".py",
   "mimetype": "text/x-python",
   "name": "python",
   "nbconvert_exporter": "python",
   "pygments_lexer": "ipython3",
   "version": "3.6.3"
  }
 },
 "nbformat": 4,
 "nbformat_minor": 2
}
