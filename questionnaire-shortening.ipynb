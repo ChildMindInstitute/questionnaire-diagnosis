{
 "cells": [
  {
   "cell_type": "markdown",
   "metadata": {},
   "source": [
    "<img src=\"resources/header.png\"/>"
   ]
  },
  {
   "cell_type": "markdown",
   "metadata": {},
   "source": [
    "# Questionnaire shortening\n",
    "\n",
    "Authored by: Ulrich Schaechtle and Veronica Weiner of the MIT Probabilistic Computing Project (Probcomp). Prepared for: meeting with Arno Klein and Jon Clucas of the Child Mind institute.\n",
    "\n",
    "This notebook demonstrates how to shorten a questionnaire using BayesDB. Specifically, we show how to use BayesDB's conditional mutual information query to select a set of questions (here 10 out of the original ~800 questions) that, taken together, are most informative about a certain diagnosis (here for (i) autism and (ii) attention deficit hyperactivity disorder).\n",
    "\n",
    "## Outline:\n",
    "\n",
    "1. Building a probabilistic model for the questionnaire data with BayesDB\n",
    "2. Selecting questions for a shortened questionnaire\n",
    "3. Results: (a) for autism, (b) for ADHD\n",
    "\n",
    "\n",
    "## 1. Building a probabilistic model for the questionnaire data with BayesDB"
   ]
  },
  {
   "cell_type": "code",
   "execution_count": null,
   "metadata": {},
   "outputs": [],
   "source": [
    "%run resources/utils\n",
    "%load_ext jupyter_probcomp.magics"
   ]
  },
  {
   "cell_type": "code",
   "execution_count": null,
   "metadata": {},
   "outputs": [],
   "source": [
    "%matplotlib inline\n",
    "%vizgpm inline"
   ]
  },
  {
   "cell_type": "code",
   "execution_count": null,
   "metadata": {},
   "outputs": [],
   "source": [
    "%bayesdb resources/bdb/questionnaire_shortening.bdb"
   ]
  },
  {
   "cell_type": "code",
   "execution_count": null,
   "metadata": {},
   "outputs": [],
   "source": [
    "%bql CREATE TABLE \"raw_questionnaire_responses\" FROM 'resources/data/init_data.csv'"
   ]
  },
  {
   "cell_type": "code",
   "execution_count": null,
   "metadata": {},
   "outputs": [],
   "source": [
    "%bql .nullify raw_questionnaire_responses ''"
   ]
  },
  {
   "cell_type": "code",
   "execution_count": null,
   "metadata": {},
   "outputs": [],
   "source": [
    "%%mml\n",
    "CREATE POPULATION questionnaire_responses_population FOR \"raw_questionnaire_responses\" WITH SCHEMA (\n",
    "    GUESS STATTYPES FOR (*);\n",
    "    MODEL\n",
    "         \"Neurodevelopmental Disorders\",\n",
    "         \"Substance Related and Addictive Disorders\",\n",
    "         \"Adjustment Disorder\",\n",
    "         \"Feeding and Eating Disorders\",\n",
    "         \"SCQ_30\",\n",
    "         \"SCQ_01\",\n",
    "         \"Schizophrenia Spectrum and other Psychotic Disorders\",\n",
    "         \"Neurodevelopmental Disorder\",\n",
    "         \"Trauma and Stressor Related Disorders\",\n",
    "         \"Tic Disorder\",\n",
    "         \"Elimination Disorders\",\n",
    "         \"SCQ_28\",\n",
    "         \"Other Conditions That May Be a Focus of Clinical Attention\",\n",
    "         \"Bipolar and Related Disorders\",\n",
    "         \"Obsessive Compulsive and Related Disorders\",\n",
    "         \"Motor Disorder\",\n",
    "         \"Somatic Symptom and Related Disorders\",\n",
    "         \"Intellectual Disability\",\n",
    "         \"Sleep-Wake Disorders\" \n",
    "    AS \n",
    "        NOMINAL;\n",
    "    MODEL \n",
    "         \"Age\" \n",
    "    AS \n",
    "        NUMERICAL;\n",
    "    IGNORE\t \n",
    "         \"EID\";\n",
    ");"
   ]
  },
  {
   "cell_type": "code",
   "execution_count": null,
   "metadata": {},
   "outputs": [],
   "source": [
    "%mml CREATE ANALYSIS SCHEMA \"questionnaire_responses_m\" FOR questionnaire_responses_population WITH BASELINE crosscat();"
   ]
  },
  {
   "cell_type": "code",
   "execution_count": null,
   "metadata": {},
   "outputs": [],
   "source": [
    "%mml INITIALIZE 1 ANALYSES FOR \"questionnaire_responses_m\";"
   ]
  },
  {
   "cell_type": "code",
   "execution_count": null,
   "metadata": {},
   "outputs": [],
   "source": [
    "%mml ANALYZE \"questionnaire_responses_m\" FOR 240 MINUTES WAIT (OPTIMIZED);"
   ]
  },
  {
   "cell_type": "markdown",
   "metadata": {},
   "source": [
    "## 2. Selecting questions for a shortened questionnaire\n",
    "\n",
    "The data table (`raw_questionnaire_responses`) comprises roughly 800 unique questions from a set\n",
    "of questionnaires. The aim of asking subjects all those questions is getting information\n",
    "about certain diagnossis, such as autism or ADHD. But letting every child\n",
    "answer all of the roughly 800 questions in the questionnaire takes time. Can we select just the\n",
    "10 most informative questions for a certain diagnosis?\n"
   ]
  },
  {
   "cell_type": "code",
   "execution_count": null,
   "metadata": {
    "collapsed": true
   },
   "outputs": [],
   "source": [
    "desired_number_of_questions = 10"
   ]
  },
  {
   "cell_type": "markdown",
   "metadata": {},
   "source": [
    "We demonstrate that it is possible to shorten the childmind questionnaire by \n",
    "generating shortened versions of it for the diagnoses:\n",
    "- Autism Spectrum Disorder\n",
    "- Attention-Deficit/Hyperactivity Disorder"
   ]
  },
  {
   "cell_type": "code",
   "execution_count": null,
   "metadata": {
    "collapsed": true
   },
   "outputs": [],
   "source": [
    "diagnoses = [\"Autism Spectrum Disorder\", \"Attention-Deficit/Hyperactivity Disorder\"]"
   ]
  },
  {
   "cell_type": "markdown",
   "metadata": {},
   "source": [
    "The number of samples parameter is a Monte Carlo accuracy parameter, also set\n",
    "to the 10 for this demo."
   ]
  },
  {
   "cell_type": "code",
   "execution_count": null,
   "metadata": {
    "collapsed": true
   },
   "outputs": [],
   "source": [
    "n_samples = 10"
   ]
  },
  {
   "cell_type": "code",
   "execution_count": null,
   "metadata": {},
   "outputs": [],
   "source": [
    "for diagnosis in diagnoses:\n",
    "    print \"==== Shorten questionnaire to detect: %s. ====\" % diagnosis\n",
    "    # Get the names of all candidate variables for the shortened questionnaire.\n",
    "    df = %bql SELECT * FROM raw_questionnaire_responses LIMIT 1\n",
    "    candidate_questions = df.columns.tolist()\n",
    "    # Remove the diagnosis from the candidates.\n",
    "    candidate_questions.remove(diagnosis)\n",
    "    # Remove the subject ID from the candidates.\n",
    "    candidate_questions.remove(\"EID\")\n",
    "\n",
    "    selected_questions = [] # Initialize: no \n",
    "    # While we don't have the desired number of quesions, keep searching. \n",
    "    while len(selected_questions) < desired_number_of_questions:\n",
    "            current_scores = []\n",
    "            # Loop through all the candidate questions.\n",
    "            for next_column in candidate_questions:\n",
    "                current_bql_pattern = get_bql_pattern(\n",
    "                    next_column,\n",
    "                    diagnosis,\n",
    "                    n_samples,\n",
    "                    selected_questions\n",
    "                )\n",
    "                if (not selected_questions) and next_column == candidate_questions[0]:\n",
    "                    print \"\"\n",
    "                    print \"First CMI query run to shorten the questionnaire:\"\n",
    "                    print \"\"\n",
    "                    print current_bql_pattern\n",
    "                df = %bql {current_bql_pattern}\n",
    "                current_scores.append(read_mi(df))\n",
    "            new_question = candidate_questions[argmax(current_scores)]\n",
    "            selected_questions.append(new_question)\n",
    "            candidate_questions.remove(new_question)\n",
    "    print \"\"\n",
    "    print \"Last CMI query run to shorten the questionnaire:\"\n",
    "    print current_bql_pattern\n",
    "    print \"\"\n",
    "    print \"Questions selected:\"\n",
    "    for question in selected_questions:\n",
    "        print \"   -- \" + question\n",
    "    print \"---------------------------------\"\n",
    "    print \"\""
   ]
  },
  {
   "cell_type": "markdown",
   "metadata": {},
   "source": [
    "## 3a. Results for Autism"
   ]
  },
  {
   "cell_type": "markdown",
   "metadata": {},
   "source": [
    "### Questions selected for a shortened questionnaire about autism\n"
   ]
  },
  {
   "cell_type": "markdown",
   "metadata": {},
   "source": [
    "#### Autism Spectrum Screening Questionnaire (ASSQ)\n",
    "- ASSQ_16:  [Child] can be with other children but only on his/her terms\n",
    "- ASSQ_17:  [Child] lacks best friend\n",
    "- ASSQ_20:  [Child] has clumsy, ill coordinated, ungainly, awkward movements or gestures\n",
    "- ASSQ_11:  [Child] uses language freely but fails to make adjustments to fit social contexts or the needs of different listeners\n",
    "\n",
    "#### Social Communication Questionnaire (SCQ)\n",
    "- SCQ_03: Does she/he ever use odd phrases or say the same thing over and over in almost exactly the same way (either phrases that she/he hears other people use or ones that she/he makes up?\n",
    "- SCQ_04: Does she/he ever use socially inappropriate questions or statements? For example, does she/he ever regularly ask personal questions or make personal comments at awkward times?\n",
    "- SCQ_08: Does she/he ever have things that she/he seems to have to do in a very particular way or order or rituals that she/he insists that you go though?\n",
    "- SCQ_11: Does she/he ever have any interests that preoccupy her/him and might seem off to other people (e.g., traffic lights, drainpipes, or timetables?)\n",
    "- SCQ_31: Does she/he ever try to comfort you if you are sad or hurt?\n",
    "\n",
    "#### Mood and Feelings Questionnaire (MFQ) Parent Report\n",
    "- MFQ_P_30: S/he thought s/he could never be as good as other kids."
   ]
  },
  {
   "cell_type": "markdown",
   "metadata": {},
   "source": [
    "## 3b. Results for ADHD"
   ]
  },
  {
   "cell_type": "markdown",
   "metadata": {},
   "source": [
    "### Questions selected for a shortened questionnaire about ADHD\n"
   ]
  },
  {
   "cell_type": "markdown",
   "metadata": {},
   "source": [
    "#### The SWAN Rating Scale for ADHD (SWAN)\n",
    "- SWAN_03: [Child] Listens when spoken to directly.\n",
    "- SWAN_04: [Child] Follows through on instructions and finishes school work and chores\n",
    "- SWAN_05: [Child] Organizes tasks and activities\n",
    "- SWAN_07: [Child] Keeps track of things necessary for activities (doesn't lose them)\n",
    "- SWAN_11: [Child] Stays seated (when required by class rules or social conventions)\n",
    "- SWAN_14: [Child] Settles down and rests (controls excessive talking)\n",
    "- SWAN_16: [Child] Reflects on questions (controls blurting out answers)\n",
    "- SWAN_17: [Child] Awaits turn (stands in line and takes turns)\n",
    "- SWAN_18: [Child] Enters into conversation and games without interrupting or intruding\n",
    "---------------\n",
    "#### Strength and Difficulties Questionnaire (SDQ)\n",
    "- SDQ_25: Good attention span, sees chores or homework through to the end"
   ]
  },
  {
   "cell_type": "code",
   "execution_count": null,
   "metadata": {
    "collapsed": true
   },
   "outputs": [],
   "source": []
  }
 ],
 "metadata": {
  "kernelspec": {
   "display_name": "Python 2",
   "language": "python",
   "name": "python2"
  },
  "language_info": {
   "codemirror_mode": {
    "name": "ipython",
    "version": 2
   },
   "file_extension": ".py",
   "mimetype": "text/x-python",
   "name": "python",
   "nbconvert_exporter": "python",
   "pygments_lexer": "ipython2",
   "version": "2.7.12"
  }
 },
 "nbformat": 4,
 "nbformat_minor": 2
}
