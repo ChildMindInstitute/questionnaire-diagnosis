{
 "cells": [
  {
   "cell_type": "code",
   "execution_count": 1,
   "metadata": {
    "collapsed": true
   },
   "outputs": [],
   "source": [
    "import os\n",
    "import pandas as pd"
   ]
  },
  {
   "cell_type": "code",
   "execution_count": 2,
   "metadata": {
    "collapsed": true
   },
   "outputs": [],
   "source": [
    "for f in os.listdir('data'):\n",
    "    if f.endswith('.xlsx'):\n",
    "        t = pd.read_excel(os.path.join('data', f))\n",
    "        t.to_csv(os.path.join('data', '.'.join([f.strip('.xlsx'), 'csv'])),\n",
    "                index=False)\n",
    "        os.remove(os.path.join('data', f))"
   ]
  },
  {
   "cell_type": "markdown",
   "metadata": {},
   "source": [
    "Also create binary Dx column:"
   ]
  },
  {
   "cell_type": "code",
   "execution_count": 3,
   "metadata": {},
   "outputs": [],
   "source": [
    "for f in os.listdir('data'):\n",
    "    if f.endswith('.csv'):\n",
    "        t = pd.read_csv(os.path.join('data', f))\n",
    "        if \"Dx\" in t.columns:\n",
    "            t[\"Dx2\"] = t[\"Dx\"] != pd.Series([\"['No Diagnosis Given']\"] * len(t))\n",
    "        t.to_csv(os.path.join('data', f), index=False)"
   ]
  },
  {
   "cell_type": "code",
   "execution_count": null,
   "metadata": {
    "collapsed": true
   },
   "outputs": [],
   "source": []
  }
 ],
 "metadata": {
  "kernelspec": {
   "display_name": "Python 2",
   "language": "python",
   "name": "python2"
  },
  "language_info": {
   "codemirror_mode": {
    "name": "ipython",
    "version": 2
   },
   "file_extension": ".py",
   "mimetype": "text/x-python",
   "name": "python",
   "nbconvert_exporter": "python",
   "pygments_lexer": "ipython2",
   "version": "2.7.12"
  }
 },
 "nbformat": 4,
 "nbformat_minor": 2
}
