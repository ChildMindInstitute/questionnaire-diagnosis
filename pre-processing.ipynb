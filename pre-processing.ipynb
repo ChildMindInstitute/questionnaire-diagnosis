{
 "cells": [
  {
   "cell_type": "markdown",
   "metadata": {},
   "source": [
    "# Pre-processing the childmind questionnaire data\n",
    "\n",
    "This notebook aims to:\n",
    "\n",
    "1. Drop aggregate variables; and\n",
    "\n",
    "2. Process the diagnosis columns into binary variables."
   ]
  },
  {
   "cell_type": "markdown",
   "metadata": {},
   "source": [
    "### 1. Drop aggregate variables"
   ]
  },
  {
   "cell_type": "code",
   "execution_count": null,
   "metadata": {
    "collapsed": true
   },
   "outputs": [],
   "source": [
    "import ast \n",
    "import numpy as np\n",
    "import pandas as pd"
   ]
  },
  {
   "cell_type": "code",
   "execution_count": null,
   "metadata": {},
   "outputs": [],
   "source": [
    "df = pd.read_csv('resources/data/unsplit_no_totals.csv')"
   ]
  },
  {
   "cell_type": "code",
   "execution_count": null,
   "metadata": {},
   "outputs": [],
   "source": [
    "df.columns"
   ]
  },
  {
   "cell_type": "code",
   "execution_count": null,
   "metadata": {},
   "outputs": [],
   "source": [
    "for col in df.columns:\n",
    "    suffix = col.split('_')[-1]\n",
    "    if col in ['EID', 'Sex', 'Age', 'Dx', 'Anx', 'adhd', 'asd']: \n",
    "        pass\n",
    "    else:\n",
    "        suffix = col.split('_')[-1]\n",
    "        if not suffix.isdigit():\n",
    "            del df[col]"
   ]
  },
  {
   "cell_type": "code",
   "execution_count": null,
   "metadata": {},
   "outputs": [],
   "source": [
    "df.to_csv('resources/data/drop_aggregates.csv',index=False)"
   ]
  },
  {
   "cell_type": "markdown",
   "metadata": {},
   "source": [
    "### 2. Process the diagnosis columns into binary variables"
   ]
  },
  {
   "cell_type": "code",
   "execution_count": null,
   "metadata": {},
   "outputs": [],
   "source": [
    "all_diagnoses = []\n",
    "for diags in df['Dx'].values.flatten():\n",
    "    all_diagnoses.extend(ast.literal_eval(diags))"
   ]
  },
  {
   "cell_type": "code",
   "execution_count": null,
   "metadata": {},
   "outputs": [],
   "source": [
    "n = len(df)"
   ]
  },
  {
   "cell_type": "code",
   "execution_count": null,
   "metadata": {},
   "outputs": [],
   "source": [
    "for diagnosis in np.unique(all_diagnoses):\n",
    "    print diagnosis\n",
    "    df[diagnosis] = df['Dx'].copy()\n",
    "    def diag_to_binary(entry):\n",
    "        return diagnosis in entry\n",
    "    df[diagnosis] = df[diagnosis].apply(diag_to_binary)\n",
    "del df['Dx']\n",
    "del df['Anx']\n",
    "del df['adhd']\n",
    "del df['asd']"
   ]
  },
  {
   "cell_type": "code",
   "execution_count": null,
   "metadata": {},
   "outputs": [],
   "source": [
    "df.to_csv('resources/data/init_data.csv',index=False)"
   ]
  }
 ],
 "metadata": {
  "kernelspec": {
   "display_name": "Python 2",
   "language": "python",
   "name": "python2"
  },
  "language_info": {
   "codemirror_mode": {
    "name": "ipython",
    "version": 2
   },
   "file_extension": ".py",
   "mimetype": "text/x-python",
   "name": "python",
   "nbconvert_exporter": "python",
   "pygments_lexer": "ipython2",
   "version": "2.7.12"
  }
 },
 "nbformat": 4,
 "nbformat_minor": 2
}
