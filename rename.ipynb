{
 "cells": [
  {
   "cell_type": "markdown",
   "metadata": {},
   "source": [
    "# Rename columns\n",
    "\n",
    "The goal of this notebook is to rename columns and there values."
   ]
  },
  {
   "cell_type": "code",
   "execution_count": null,
   "metadata": {},
   "outputs": [],
   "source": [
    "import glob\n",
    "import pandas as pd"
   ]
  },
  {
   "cell_type": "code",
   "execution_count": null,
   "metadata": {},
   "outputs": [],
   "source": [
    "# Get all column key files.\n",
    "files = glob.glob('resources/column-keys/*.csv')"
   ]
  },
  {
   "cell_type": "code",
   "execution_count": null,
   "metadata": {},
   "outputs": [],
   "source": [
    "# Fix the column-key for the symptom checklist. The symptom checklist does is so different\n",
    "# from the other keys that is does not fit a common function.\n",
    "def fix_symptom_checklist(df):\n",
    "    \"\"\"The key for the symptom checkist is formatted differently.\"\"\"\n",
    "    for index, row in df.iterrows():\n",
    "        row['Question'] = row['When'] + '--' + row['Question']\n",
    "    del df['When']\n",
    "    return df"
   ]
  },
  {
   "cell_type": "code",
   "execution_count": null,
   "metadata": {},
   "outputs": [],
   "source": [
    "# Generate a single dataframe to map column shorthands to actual questions.\n",
    "dfs = []\n",
    "for key_file in files:\n",
    "    df = pd.read_csv(key_file, header=1)\n",
    "    if 'Value Scale' in df:\n",
    "        df['Value Labels'] = df['Value Scale']\n",
    "        del df['Value Scale']\n",
    "    if 'Symptom_Checklist.csv' in key_file:\n",
    "        df = fix_symptom_checklist(df)\n",
    "    df = df.rename(columns={'Variable':'Variable Name', 'Value':'Values', 'Value Label':'Value Labels', 'Question ':'Question'})\n",
    "    if df.columns.tolist() == ['Question', 'Variable Name', 'Variable Type', 'Values', 'Value Labels']:\n",
    "        dfs.append(df)\n",
    "    else:\n",
    "        print ''\n",
    "        print ''\n",
    "        print ''\n",
    "        print ''\n",
    "        print key_file\n",
    "        print df.columns.tolist()\n",
    "all_keys = pd.concat(dfs)"
   ]
  },
  {
   "cell_type": "code",
   "execution_count": null,
   "metadata": {},
   "outputs": [],
   "source": [
    "# Show the mapping.\n",
    "all_keys.head(100)"
   ]
  },
  {
   "cell_type": "code",
   "execution_count": null,
   "metadata": {},
   "outputs": [],
   "source": [
    "# remove initial numbering\n",
    "def remove_number_prefix(name):\n",
    "    split_name = name.split('.')\n",
    "    if split_name[0].isdigit():\n",
    "        return ''.join(split_name[1:]).strip()\n",
    "    else:\n",
    "        return name"
   ]
  },
  {
   "cell_type": "code",
   "execution_count": null,
   "metadata": {},
   "outputs": [],
   "source": [
    "# Remove funny ascii characters.\n",
    "def encode_correctly(question):\n",
    "    return question.decode('utf-8','ignore').encode(\"utf-8\")\n",
    "all_keys['Question'] = all_keys['Question'].apply(encode_correctly)"
   ]
  },
  {
   "cell_type": "code",
   "execution_count": null,
   "metadata": {},
   "outputs": [],
   "source": [
    "# Remove superfluous numbering.\n",
    "for index, row in all_keys.iterrows():\n",
    "    row['Question'] = remove_number_prefix(row['Question'])\n",
    "    if row['Question'].split('Item ')[-1].isdigit():\n",
    "        row['Question'] = row['Variable Name']"
   ]
  },
  {
   "cell_type": "code",
   "execution_count": null,
   "metadata": {},
   "outputs": [],
   "source": [
    "df = pd.read_csv('resources/questions_and_mri_structured_subsample.csv')"
   ]
  },
  {
   "cell_type": "code",
   "execution_count": null,
   "metadata": {},
   "outputs": [],
   "source": [
    "df = df.rename(columns=dict(zip(all_keys['Variable Name'], all_keys['Question'])))"
   ]
  },
  {
   "cell_type": "code",
   "execution_count": null,
   "metadata": {},
   "outputs": [],
   "source": [
    "# Rname diagnosis to somethign more readable.\n",
    "df = df.rename(columns={'Anx':'Anxiety', 'ASD':'Autism Spectrum Disorder'})"
   ]
  },
  {
   "cell_type": "code",
   "execution_count": null,
   "metadata": {},
   "outputs": [],
   "source": [
    "# Replace binaries to readable gender descriptions.\n",
    "def replace_binaries_gender(value):\n",
    "    if value==0.0:\n",
    "        return 'Male'\n",
    "    elif value==1.0:\n",
    "        return 'Female'\n",
    "    else:\n",
    "        return value\n",
    "df['Sex'] = df['Sex'].apply(replace_binaries_gender)"
   ]
  },
  {
   "cell_type": "code",
   "execution_count": null,
   "metadata": {},
   "outputs": [],
   "source": [
    "# Save to a new .csv\n",
    "df.to_csv('resources/questions_and_mri_structured_subsample_rename.csv', index=False)"
   ]
  }
 ],
 "metadata": {
  "kernelspec": {
   "display_name": "Python 2",
   "language": "python",
   "name": "python2"
  },
  "language_info": {
   "codemirror_mode": {
    "name": "ipython",
    "version": 2
   },
   "file_extension": ".py",
   "mimetype": "text/x-python",
   "name": "python",
   "nbconvert_exporter": "python",
   "pygments_lexer": "ipython2",
   "version": "2.7.11"
  }
 },
 "nbformat": 4,
 "nbformat_minor": 2
}
