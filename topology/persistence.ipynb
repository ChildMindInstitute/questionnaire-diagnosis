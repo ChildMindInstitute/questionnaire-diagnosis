{
 "cells": [
  {
   "cell_type": "code",
   "execution_count": 24,
   "metadata": {},
   "outputs": [
    {
     "name": "stdout",
     "output_type": "stream",
     "text": [
      "The autoreload extension is already loaded. To reload it, use:\n",
      "  %reload_ext autoreload\n"
     ]
    }
   ],
   "source": [
    "%load_ext autoreload\n",
    "%autoreload 2"
   ]
  },
  {
   "cell_type": "code",
   "execution_count": 122,
   "metadata": {
    "collapsed": true
   },
   "outputs": [],
   "source": [
    "vv = [[0, 1, 2, 3, 4]]"
   ]
  },
  {
   "cell_type": "code",
   "execution_count": 218,
   "metadata": {},
   "outputs": [],
   "source": [
    "from boundary_matrix import build_boundary_matrix\n",
    "from boundary_matrix import lower_dimensions_index\n",
    "from boundary_matrix import replace_list\n",
    "from boundary_matrix import vector_vector_T\n",
    "import numpy as np\n",
    "import os\n",
    "import pandas as pd\n",
    "#import phat"
   ]
  },
  {
   "cell_type": "code",
   "execution_count": 219,
   "metadata": {},
   "outputs": [
    {
     "name": "stdout",
     "output_type": "stream",
     "text": [
      "(0, 1)\n",
      "(0, 2)\n",
      "(0, 3)\n",
      "(0, 4)\n",
      "(1, 2)\n",
      "(1, 3)\n",
      "(1, 4)\n",
      "(2, 3)\n",
      "(2, 4)\n",
      "(3, 4)\n",
      "(0, 1, 2)\n",
      "(0, 1, 3)\n",
      "(0, 1, 4)\n",
      "(0, 2, 3)\n",
      "(0, 2, 4)\n",
      "(0, 3, 4)\n",
      "(1, 2, 3)\n",
      "(1, 2, 4)\n",
      "(1, 3, 4)\n",
      "(2, 3, 4)\n",
      "(0, 1, 2, 3)\n",
      "(0, 1, 2, 4)\n",
      "(0, 1, 3, 4)\n",
      "(0, 2, 3, 4)\n",
      "(1, 2, 3, 4)\n",
      "(0, 1, 2, 3, 4)\n",
      "{'[0]': (0, 0), '[1]': (0, 1), '[2]': (0, 2), '[3]': (0, 3), '[4]': (0, 4), '[0, 1]': (1, 5), '[0, 2]': (1, 6), '[0, 3]': (1, 7), '[0, 4]': (1, 8), '[1, 2]': (1, 9), '[1, 3]': (1, 10), '[1, 4]': (1, 11), '[2, 3]': (1, 12), '[2, 4]': (1, 13), '[3, 4]': (1, 14), '[0, 1, 2]': (2, 15), '[0, 1, 3]': (2, 16), '[0, 1, 4]': (2, 17), '[0, 2, 3]': (2, 18), '[0, 2, 4]': (2, 19), '[0, 3, 4]': (2, 20), '[1, 2, 3]': (2, 21), '[1, 2, 4]': (2, 22), '[1, 3, 4]': (2, 23), '[2, 3, 4]': (2, 24), '[0, 1, 2, 3]': (3, 25), '[0, 1, 2, 4]': (3, 26), '[0, 1, 3, 4]': (3, 27), '[0, 2, 3, 4]': (3, 28), '[1, 2, 3, 4]': (3, 29), '[0, 1, 2, 3, 4]': (4, 30)}\n",
      "0 0 []\n",
      "1 0 []\n",
      "2 0 []\n",
      "3 0 []\n",
      "4 0 []\n",
      "5 1 [0, 1]\n",
      "6 1 [0, 2]\n",
      "7 1 [0, 3]\n",
      "8 1 [0, 4]\n",
      "9 1 [1, 2]\n",
      "10 1 [1, 3]\n",
      "11 1 [1, 4]\n",
      "12 1 [2, 3]\n",
      "13 1 [2, 4]\n",
      "14 1 [3, 4]\n",
      "15 2 [0, 1, 2]\n",
      "16 2 [0, 1, 3]\n",
      "17 2 [0, 1, 4]\n",
      "18 2 [0, 2, 3]\n",
      "19 2 [0, 2, 4]\n",
      "20 2 [0, 3, 4]\n",
      "21 2 [1, 2, 3]\n",
      "22 2 [1, 2, 4]\n",
      "23 2 [1, 3, 4]\n",
      "24 2 [2, 3, 4]\n",
      "25 3 [0, 1, 2, 3]\n",
      "26 3 [0, 1, 2, 4]\n",
      "27 3 [0, 1, 3, 4]\n",
      "28 3 [0, 2, 3, 4]\n",
      "29 3 [1, 2, 3, 4]\n",
      "30 4 [0, 1, 2, 3, 4]\n"
     ]
    }
   ],
   "source": [
    "for i, b in enumerate(build_boundary_matrix(vv)):\n",
    "    print(i, b[0], b[1])"
   ]
  },
  {
   "cell_type": "code",
   "execution_count": null,
   "metadata": {
    "collapsed": true
   },
   "outputs": [],
   "source": [
    "data = os.path.join(os.pardir, os.pardir, \"train_test_data\", \"unsplit_no_totals.csv\")"
   ]
  },
  {
   "cell_type": "code",
   "execution_count": null,
   "metadata": {
    "collapsed": true
   },
   "outputs": [],
   "source": [
    "df = pd.read_csv(data)"
   ]
  },
  {
   "cell_type": "code",
   "execution_count": null,
   "metadata": {
    "collapsed": true
   },
   "outputs": [],
   "source": [
    "dxes = {(\"Anx\", \"adhd\", \"asd\"):\n",
    "           {(0,0,0),\n",
    "           (1,0,0),\n",
    "           (0,1,0),\n",
    "           (0,0,1),\n",
    "           (1,1,0),\n",
    "           (1,0,1),\n",
    "           (0,1,1),\n",
    "           (1,1,1)}\n",
    "       }"
   ]
  },
  {
   "cell_type": "code",
   "execution_count": null,
   "metadata": {
    "collapsed": true
   },
   "outputs": [],
   "source": [
    "subdfs = {}\n",
    "for k in dxes:\n",
    "    for r in dxes[k]:\n",
    "        d = set(zip(k, r))\n",
    "        subdfs[str(dict(d))] = df.loc[\n",
    "            eval(\n",
    "                \" & \".join(\n",
    "                    {\n",
    "                        \"(df[\\\"{0}\\\"] == {1})\".format(key, value) for key, value in d\n",
    "                    }\n",
    "                )\n",
    "            )\n",
    "        ].copy()"
   ]
  },
  {
   "cell_type": "code",
   "execution_count": null,
   "metadata": {},
   "outputs": [],
   "source": [
    "for n in subdfs:\n",
    "    print(n, \":\", len(subdfs[n]))"
   ]
  },
  {
   "cell_type": "code",
   "execution_count": null,
   "metadata": {
    "collapsed": true
   },
   "outputs": [],
   "source": [
    "bmdir = os.path.join(os.pardir, os.pardir, \"boundary_matrices\")\n",
    "if not os.path.exists(bmdir):\n",
    "    os.makedirs(bmdir)"
   ]
  },
  {
   "cell_type": "code",
   "execution_count": null,
   "metadata": {
    "collapsed": true
   },
   "outputs": [],
   "source": [
    "matrices = []\n",
    "for n in subdfs:\n",
    "    df_in_use = subdfs[n].loc[subdfs[n][\"train\"]].drop(\n",
    "        [\"Dx\", \"Anx\", \"adhd\", \"asd\", \"train\", \"Sex\", \"Age\", \"EID\"],\n",
    "        axis=1\n",
    "    ).copy()\n",
    "    df_in_use.reset_index(inplace=True, drop=True)\n",
    "    for col in [col for col in df_in_use.columns if col != \"EID\"]:\n",
    "        df_in_use[col] = (df_in_use[col] == max(df_in_use[col]))\n",
    "    bmatrix = build_boundary_matrix(vector_vector_T(df_in_use))\n",
    "    with open(os.path.join(\n",
    "        bmdir,\n",
    "        \"{0}.txt\".format(replace_list(n.replace(\" \", \"_\"),[\":\", \",\", \"'\", \"{\", \"}\"], \"\"))\n",
    "    ), \"w\") as of:\n",
    "        of.write(str(bmatrix))\n",
    "    matrices.append(bmatrix)"
   ]
  },
  {
   "cell_type": "code",
   "execution_count": null,
   "metadata": {
    "collapsed": true
   },
   "outputs": [],
   "source": [
    "for n in subdfs:\n",
    "    df_in_use = subdfs[n].loc[subdfs[n][\"train\"]].drop(\n",
    "        [\"Dx\", \"Anx\", \"adhd\", \"asd\", \"train\", \"Sex\", \"Age\", \"EID\"],\n",
    "        axis=1\n",
    "    ).copy()\n",
    "    df_in_use.reset_index(inplace=True, drop=True)\n",
    "    for col in [col for col in df_in_use.columns if col != \"EID\"]:\n",
    "        df_in_use[col] = (df_in_use[col] == max(df_in_use[col]))\n",
    "    boundary_matrix = phat.boundary_matrix(representation = phat.representations.vector_vector)\n",
    "\n",
    "    boundary_matrix.columns = build_boundary_matrix(vector_vector_T(df_in_use))\n",
    "    \n",
    "    print(\"The boundary matrix has %d columns:\" % len(boundary_matrix.columns))\n",
    "    for col in boundary_matrix.columns:\n",
    "        s = \"Column %d represents a cell of dimension %d.\" % (col.index, col.dimension)\n",
    "        if (col.boundary):\n",
    "            s = s + \" Its boundary consists of the cells \" + \" \".join([str(c) for c in col.boundary])\n",
    "        print(s)\n",
    "    print(\"Overall, the boundary matrix has %d entries.\" % len(boundary_matrix))\n",
    "\n",
    "    pairs = boundary_matrix.compute_persistence_pairs()\n",
    "\n",
    "    pairs.sort()\n",
    "\n",
    "    print()\n",
    "    print(\"There are %d persistence pairs: \" % len(pairs))\n",
    "    for pair in pairs:\n",
    "        print(\"Birth: %d, Death: %d\" % pair)"
   ]
  }
 ],
 "metadata": {
  "kernelspec": {
   "display_name": "Python 3",
   "language": "python",
   "name": "python3"
  },
  "language_info": {
   "codemirror_mode": {
    "name": "ipython",
    "version": 3
   },
   "file_extension": ".py",
   "mimetype": "text/x-python",
   "name": "python",
   "nbconvert_exporter": "python",
   "pygments_lexer": "ipython3",
   "version": "3.6.2"
  }
 },
 "nbformat": 4,
 "nbformat_minor": 2
}
