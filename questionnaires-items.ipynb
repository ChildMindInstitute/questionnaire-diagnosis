{
 "cells": [
  {
   "cell_type": "markdown",
   "metadata": {},
   "source": [
    "<img src=\"resources/header.png\"/>\n",
    "\n",
    "## Questionnaires and links to individual questions\n",
    "   \n",
    "- [ACE: Adverse Childhood Experience (ACE)](resources/html/ACE.html)\n",
    "- [APQ_P: Alabama Parenting Questionnaire (APQ) Parent-Report](resources/html/APQ_P.html)\n",
    "- [APQ_S: Alabama Parenting Questionnaire (APQ) Self-Report](resources/html/APQ_S.html)\n",
    "- [ARI_P: Affective Reactivity Index (ARI) Parent-Report](resources/html/ARI_P.html)\n",
    "- [ARI_S: Affective Reactivity Index (ARI) Self-Report](resources/html/ARI_S.html)\n",
    "- [ASR: Adult Self Report](resources/html/ASR.html)\n",
    "- [ASSQ: Autism Spectrum Screening Questionnaire (ASSQ)](resources/html/ASSQ.html)\n",
    "- [C3SR (Conners-SR): Conners 3 - Self-Report (C3SR)](resources/html/C3SR (Conners-SR).html)\n",
    "- [CAARS: Conners' Adult ADHD Rating Scales (CAARS)](resources/html/CAARS.html)\n",
    "- [CBCL: Child Behavior Checklist (CBCL) -- Age 6-18](resources/html/CBCL.html)\n",
    "- [CBCL_Pre: Child Behavior Checklist (CBCL) Pre-School](resources/html/CBCL_Pre.html)\n",
    "- [CCSC: Children's Coping Strategies Checklist-Revised](resources/html/CCSC.html)\n",
    "- [CDI2SR: Children's Depression Index (CDI) Self Report](resources/html/CDI2SR.html)\n",
    "- [CDI2_P: Children's Depression Index (CDI) Parent Report](resources/html/CDI2_P.html)\n",
    "- [CIS_P: Columbia Impairment Scale (CIS) Parent Report](resources/html/CIS_P.html)\n",
    "- [CIS_SR: Columbia Impairment Scale - Self-Report (CIS-SR)](resources/html/CIS_SR.html)\n",
    "- [CPIC: Children's Perception of Interparental Conflict Scale (CPIC)](resources/html/CPIC.html)\n",
    "- [DTS: Distress Tolerance Scale (DTS)](resources/html/DTS.html)\n",
    "- [IAT: Internet Addiction Test (IAT)](resources/html/IAT.html)\n",
    "- [ICU_P: Inventory of Callous-Unemotional Traits (ICU) Parent Report](resources/html/ICU_P.html)\n",
    "- [ICU_SR: Inventory of Callous-Unemotional Traits (ICU) Self Report](resources/html/ICU_SR.html)\n",
    "- [MFQ_P: Mood and Feelings Questionnaire (MFQ) Parent Report](resources/html/MFQ_P.html)\n",
    "- [MFQ_SR: Mood and Feelings Questionnaire (MFQ) Self Report](resources/html/MFQ_SR.html)\n",
    "- [PCIAT: Parent-Child Internet Addiction Test](resources/html/PCIAT.html)\n",
    "- [PSI: Parenting Stress Index (PSI)](resources/html/PSI.html)\n",
    "- [SAS: Socal Aptititude Scale (SAS)](resources/html/SAS.html)\n",
    "- [SCARED_P: Screen for Child Anxiety Related Disorders (SCARED) Parent Report](resources/html/SCARED_P.html)\n",
    "- [SCARED_SR: Screen for Anxiety Related Disorders (SCARED) Self Report](resources/html/SCARED_SR.html)\n",
    "- [SCQ: Social Communication Questionnaire](resources/html/SCQ.html)\n",
    "- [SDQ: Strength and Difficulties Questionnaire](resources/html/SDQ.html)\n",
    "- [SDS: Sleep Disturbance Scale (SDS)](resources/html/SDS.html)\n",
    "- [SRS_Preschool: Social Responsiveness Scale (SRS) Preschool](resources/html/SRS_Preschool.html)\n",
    "- [SRS_School: Social Responsiveness Scale (SRS) School Age](resources/html/SRS_School.html)\n",
    "- [STAI: State-Trait Anxiety Inventory for Adults](resources/html/STAI.html)\n",
    "- [SWAN : The SWAN Rating Scale for ADHD](resources/html/SWAN .html)\n",
    "- [Symptom_Checklist: Symptom Checklist - Parent](resources/html/Symptom_Checklist.html)\n",
    "- [TRF_Preschool_Age: Teacher Report Form (TRF) Preschool Age](resources/html/TRF_Preschool_Age.html)\n",
    "- [TRF_School_Age: Teacher Report Form (TRF) School Age](resources/html/TRF_School_Age.html)\n",
    "- [WHODAS_P: WHO Disability Assessment Schedule (WHODAS) Parent-Report](resources/html/WHODAS_P.html)\n",
    "- [WHODAS_SR: WHO Disability Assessment Schedule (WHODAS) Self-Report](resources/html/WHODAS_SR.html)\n",
    "- [YFAS: Yale Food Addiction Scale (YFAS)](resources/html/YFAS.html)\n",
    "- [YSR: Youth Self Report (YSR)](resources/html/YSR.html)\n",
    "\n",
    "No compound scores are included, the diagnosis have been transformed into individual\n",
    "binary variables."
   ]
  },
  {
   "cell_type": "code",
   "execution_count": null,
   "metadata": {
    "collapsed": true
   },
   "outputs": [],
   "source": []
  }
 ],
 "metadata": {
  "kernelspec": {
   "display_name": "Python 2",
   "language": "python",
   "name": "python2"
  },
  "language_info": {
   "codemirror_mode": {
    "name": "ipython",
    "version": 2
   },
   "file_extension": ".py",
   "mimetype": "text/x-python",
   "name": "python",
   "nbconvert_exporter": "python",
   "pygments_lexer": "ipython2",
   "version": "2.7.12"
  }
 },
 "nbformat": 4,
 "nbformat_minor": 2
}
