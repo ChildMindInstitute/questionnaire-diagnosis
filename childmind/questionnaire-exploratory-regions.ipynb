{
 "cells": [
  {
   "cell_type": "markdown",
   "metadata": {},
   "source": [
    "<img src=\"https://raw.githubusercontent.com/probcomp/notebook/e66a399561d069a5dfe19c7efd8dd62c09a80787/tutorials/resources/header.png\"/>\n",
    "<img src=\"https://www.yammer.com/api/v1/uploaded_files/61754420/preview/CMI_rgb_horizontal_logo.png?_t=1525896635778\" style='height:75px'/>"
   ]
  },
  {
   "cell_type": "markdown",
   "metadata": {},
   "source": [
    "# Exploratory data analysis with BayesDB for child psychology\n",
    "\n",
    "\n",
    "Authored by: Ulrich Schaechtle, Veronica Sara Weiner of the MIT Probabilistic Computing Project (Probcomp) with Arno Klein and Jon Clucas of the Child Mind Institute MATTER Lab.\n",
    "\n",
    "In this notebook, we will use BayesDB for exploratory data analysis of the questionnaire responses data set provided by the [Child Mind Institute](https://childmind.org/). The data set contains individual question-items of a [set of\n",
    "questionnaires](http://fcon_1000.projects.nitrc.org/indi/cmi_healthy_brain_network/assessments/master-list.html) related to childhood mental health and a set of structural MRI features. \n",
    "\n",
    "This notebook will cover the following topics:\n",
    "\n",
    "1. List of questionnaires and links to individual questions\n",
    "2. Analysis with BayesDB\n",
    "3. Exploring probable dependencies between variables and comparing CrossCat dependence probability to linear correlation\n",
    "4. Taking a closer look at dependencies and the models built by CrossCat\n",
    "5. Aggregating across an ensemble of CrossCat models to assess the similarity of subjects"
   ]
  },
  {
   "cell_type": "markdown",
   "metadata": {},
   "source": [
    "## 1. List of questionnaires and links to individual questions\n",
    "\n",
    "The following are the questionnares from which data has been collected by the Child Mind Institute, and that we analyze in this notebook. Each link leads to a set of questions. We analyze the data in the original questionnaire format (as categorical responses to individual questions). Compound/summary scores are not included, the diagnoses have been transformed into individual binary variables.\n",
    "   \n",
    "- [ACE: Adverse Childhood Experience (ACE)](resources/html/ACE.html)\n",
    "- [APQ_P: Alabama Parenting Questionnaire (APQ) Parent-Report](resources/html/APQ_P.html)\n",
    "- [APQ_S: Alabama Parenting Questionnaire (APQ) Self-Report](resources/html/APQ_S.html)\n",
    "- [ARI_P: Affective Reactivity Index (ARI) Parent-Report](resources/html/ARI_P.html)\n",
    "- [ARI_S: Affective Reactivity Index (ARI) Self-Report](resources/html/ARI_S.html)\n",
    "- [ASR: Adult Self Report](resources/html/ASR.html)\n",
    "- [ASSQ: Autism Spectrum Screening Questionnaire (ASSQ)](resources/html/ASSQ.html)\n",
    "- [C3SR (Conners-SR): Conners 3 - Self-Report (C3SR)](resources/html/C3SR.html)\n",
    "- [CAARS: Conners' Adult ADHD Rating Scales (CAARS)](resources/html/CAARS.html)\n",
    "- [CBCL: Child Behavior Checklist (CBCL) -- Age 6-18](resources/html/CBCL.html)\n",
    "- [CBCL_Pre: Child Behavior Checklist (CBCL) Pre-School](resources/html/CBCL_Pre.html)\n",
    "- [CCSC: Children's Coping Strategies Checklist-Revised](resources/html/CCSC.html)\n",
    "- [CDI2SR: Children's Depression Index (CDI) Self Report](resources/html/CDI2SR.html)\n",
    "- [CDI2_P: Children's Depression Index (CDI) Parent Report](resources/html/CDI2_P.html)\n",
    "- [CIS_P: Columbia Impairment Scale (CIS) Parent Report](resources/html/CIS_P.html)\n",
    "- [CIS_SR: Columbia Impairment Scale - Self-Report (CIS-SR)](resources/html/CIS_SR.html)\n",
    "- [CPIC: Children's Perception of Interparental Conflict Scale (CPIC)](resources/html/CPIC.html)\n",
    "- [DTS: Distress Tolerance Scale (DTS)](resources/html/DTS.html)\n",
    "- ~~[IAT: Internet Addiction Test (IAT)](resources/html/IAT.html)~~\n",
    "- [ICU_P: Inventory of Callous-Unemotional Traits (ICU) Parent Report](resources/html/ICU_P.html)\n",
    "- [ICU_SR: Inventory of Callous-Unemotional Traits (ICU) Self Report](resources/html/ICU_SR.html)\n",
    "- [MFQ_P: Mood and Feelings Questionnaire (MFQ) Parent Report](resources/html/MFQ_P.html)\n",
    "- [MFQ_SR: Mood and Feelings Questionnaire (MFQ) Self Report](resources/html/MFQ_SR.html)\n",
    "- ~~[PCIAT: Parent-Child Internet Addiction Test](resources/html/PCIAT.html)~~\n",
    "- [PSI: Parenting Stress Index (PSI)](resources/html/PSI.html)\n",
    "- [SAS: Socal Aptititude Scale (SAS)](resources/html/SAS.html)\n",
    "- [SCARED_P: Screen for Child Anxiety Related Disorders (SCARED) Parent Report](resources/html/SCARED_P.html)\n",
    "- [SCARED_SR: Screen for Anxiety Related Disorders (SCARED) Self Report](resources/html/SCARED_SR.html)\n",
    "- [SCQ: Social Communication Questionnaire](resources/html/SCQ.html)\n",
    "- [SDQ: Strength and Difficulties Questionnaire](resources/html/SDQ.html)\n",
    "- [SDS: Sleep Disturbance Scale (SDS)](resources/html/SDS.html)\n",
    "- [SRS_Preschool: Social Responsiveness Scale (SRS) Preschool](resources/html/SRS_Preschool.html)\n",
    "- [SRS_School: Social Responsiveness Scale (SRS) School Age](resources/html/SRS_School.html)\n",
    "- [STAI: State-Trait Anxiety Inventory for Adults](resources/html/STAI.html)\n",
    "- [SWAN : The SWAN Rating Scale for ADHD](resources/html/SWAN .html)\n",
    "- [Symptom_Checklist: Symptom Checklist - Parent](resources/html/Symptom_Checklist.html)\n",
    "- [TRF_Preschool_Age: Teacher Report Form (TRF) Preschool Age](resources/html/TRF_Preschool_Age.html)\n",
    "- [TRF_School_Age: Teacher Report Form (TRF) School Age](resources/html/TRF_School_Age.html)\n",
    "- [WHODAS_P: WHO Disability Assessment Schedule (WHODAS) Parent-Report](resources/html/WHODAS_P.html)\n",
    "- [WHODAS_SR: WHO Disability Assessment Schedule (WHODAS) Self-Report](resources/html/WHODAS_SR.html)\n",
    "- [YFAS: Yale Food Addiction Scale (YFAS)](resources/html/YFAS.html)\n",
    "- [YSR: Youth Self Report (YSR)](resources/html/YSR.html)\n",
    "\n"
   ]
  },
  {
   "cell_type": "markdown",
   "metadata": {},
   "source": [
    "## 2. Analysis with BayesDB"
   ]
  },
  {
   "cell_type": "markdown",
   "metadata": {},
   "source": [
    "### 2a. Setting up the Jupyter environment"
   ]
  },
  {
   "cell_type": "markdown",
   "metadata": {},
   "source": [
    "The first step is to load the `jupyter_probcomp.magics` library, which provides BayesDB hooks for data exploration, plotting, querying, and analysis through this Jupyter notebook environment. The second cell allows plots from matplotlib and javascript to be shown inline."
   ]
  },
  {
   "cell_type": "code",
   "execution_count": null,
   "metadata": {},
   "outputs": [],
   "source": [
    "%load_ext jupyter_probcomp.magics"
   ]
  },
  {
   "cell_type": "code",
   "execution_count": null,
   "metadata": {},
   "outputs": [],
   "source": [
    "%matplotlib inline\n",
    "%vizgpm inline"
   ]
  },
  {
   "cell_type": "markdown",
   "metadata": {},
   "source": [
    "### 2b. Creating a BayesDB `.bdb` file on disk"
   ]
  },
  {
   "cell_type": "markdown",
   "metadata": {},
   "source": [
    "We next use the `%bayesdb` magic to create a `.bdb` file on disk named `childmind_smri_questions.bdb`. This file will store all the data and models created in this session."
   ]
  },
  {
   "cell_type": "code",
   "execution_count": null,
   "metadata": {},
   "outputs": [],
   "source": [
    "!rm -f resources/bdb/childmind_smri_questions.bdb\n",
    "%bayesdb resources/bdb/childmind_smri_questions.bdb\n",
    "bdb = %get_bdb\n",
    "import os\n",
    "os.environ['LOOM_VERBOSITY'] = '0'\n",
    "import bayeslite\n",
    "from bayeslite.backends.loom_backend import LoomBackend\n",
    "from bayeslite import bayesdb_register_backend\n",
    "bayesdb_register_backend(bdb, LoomBackend(os.path.abspath('loom_files/')))"
   ]
  },
  {
   "cell_type": "markdown",
   "metadata": {},
   "source": [
    "### 2c. Ingesting data from a `.csv` file into a BayesDB table"
   ]
  },
  {
   "cell_type": "markdown",
   "metadata": {},
   "source": [
    "The questionnaire dataset is stored in the csv file `resources/init_data.csv`. Each column of the csv file is a variable, and each row is a record. We use the `CREATE TABLE` BQL query, with the pathname of the csv file, to convert the csv data into a database table named `raw_questionnaire_responses`."
   ]
  },
  {
   "cell_type": "code",
   "execution_count": null,
   "metadata": {},
   "outputs": [],
   "source": [
    "%bql CREATE TABLE \"raw_questionnaire_responses\" FROM 'resources/data/smri_questions.csv'"
   ]
  },
  {
   "cell_type": "markdown",
   "metadata": {},
   "source": [
    "Almost all datasets have missing values, and special tokens such as `NaN` or `NA` indicating a particular cell is missing. In the questionnaire data, empty strings are used. To tell BayesDB to treat empty strings as SQL `NULL` we use the `.nullify` command, followed by the name of the table and the string `''` which represents missing data. Over 250,000 cells have been converted to `NULL`, illustrating that the data is quite sparse."
   ]
  },
  {
   "cell_type": "code",
   "execution_count": null,
   "metadata": {},
   "outputs": [],
   "source": [
    "%bql .nullify raw_questionnaire_responses ''"
   ]
  },
  {
   "cell_type": "markdown",
   "metadata": {},
   "source": [
    "### 2d. Running basic queries on the table using BQL and SQL"
   ]
  },
  {
   "cell_type": "markdown",
   "metadata": {},
   "source": [
    "Now that the questionnaire dataset has been loaded into at table, and missing values converted to `NULL`, we can run standard SQL queries to explore the contents of the data. For example, we can select the first 5 records. Observe that each row in the table is a particular country, and each column is a macreconomic variable. Scroll through the names in the header of the table to get a sense of the marcoeconomic variables in the dataset. "
   ]
  },
  {
   "cell_type": "code",
   "execution_count": null,
   "metadata": {},
   "outputs": [],
   "source": [
    "%bql SELECT * FROM \"raw_questionnaire_responses\" LIMIT 5;"
   ]
  },
  {
   "cell_type": "markdown",
   "metadata": {},
   "source": [
    "We can also find the total number of records (i.e. subjects)."
   ]
  },
  {
   "cell_type": "code",
   "execution_count": null,
   "metadata": {},
   "outputs": [],
   "source": [
    "%bql SELECT COUNT(*) as N FROM \"raw_questionnaire_responses\";"
   ]
  },
  {
   "cell_type": "markdown",
   "metadata": {},
   "source": [
    "### 2e. Creating a BayesDB population for the questionnaire response data"
   ]
  },
  {
   "cell_type": "markdown",
   "metadata": {},
   "source": [
    "The notion of a \"population\" is a central concept in BayesDB. For a standard database table, such as `raw_questionnaire_responses`, each column is associated with a [data type](https://sqlite.org/datatype3.html), which in sqlite3 are `TEXT`, `REAL`, `INTEGER`, and `BLOB`. For a BayesDB population, each variable is associated with a _statistical data type_. These statistical types, such as `NOMINAL`, `NUMERICAL`, `MAGNITUDE`, and `COUNTS`, specify the set of values and default probability distributions used for building probabilistic models of the data in the population. In this tutorial, we will use the `NUMERICAL` and `NOMINAL` statistical data types."
   ]
  },
  {
   "cell_type": "markdown",
   "metadata": {},
   "source": [
    "We can use the `GUESS SCHEMA FOR <table>` command from the Metamodeling Language (MML) in BayesDB to guess the statistical data types of variables in the table. The guesses use heuristics based on the contents in the cells. The `num_distinct` column shows the number of unique values for that variable, and the `reason` column explains which heuristic was used to make the guess."
   ]
  },
  {
   "cell_type": "code",
   "execution_count": null,
   "metadata": {},
   "outputs": [],
   "source": [
    "%mml GUESS SCHEMA FOR \"raw_questionnaire_responses\""
   ]
  },
  {
   "cell_type": "code",
   "execution_count": null,
   "metadata": {},
   "outputs": [],
   "source": [
    "%%mml\n",
    "CREATE POPULATION \"questionnaire_responses_population\" FOR \"raw_questionnaire_responses\" WITH SCHEMA (\n",
    "    GUESS STATTYPES OF (*);\n",
    "    -- stuff that the guess suggested to ignore:\n",
    "    SET STATTYPES OF\n",
    "         \"SCQ_30\",\n",
    "         \"SCQ_01\",\n",
    "         \"SCQ_28\",\n",
    "         \"ADHD\",\n",
    "         \"Anxiety\",\n",
    "         \"Autism\",\n",
    "         \"Other\"\n",
    "    TO\n",
    "        NOMINAL;\n",
    "    SET STATTYPE OF \n",
    "         \"Age\" \n",
    "    TO\n",
    "        NUMERICAL;\n",
    "    IGNORE\t \n",
    "         \"EID\";\n",
    ");"
   ]
  },
  {
   "cell_type": "markdown",
   "metadata": {},
   "source": [
    "### 2f. Creating initial multivariate models of the data"
   ]
  },
  {
   "cell_type": "markdown",
   "metadata": {},
   "source": [
    "#### Turn on multi-core computing with BayesDB"
   ]
  },
  {
   "cell_type": "code",
   "execution_count": null,
   "metadata": {},
   "outputs": [],
   "source": [
    "%multiprocess on"
   ]
  },
  {
   "cell_type": "markdown",
   "metadata": {},
   "source": [
    "This way, we can use all 64 cores of this machine in parallel. "
   ]
  },
  {
   "cell_type": "markdown",
   "metadata": {},
   "source": [
    "Now that we have created the `questionnaire_responses_population` population, the next step is to analyze the data by building probabilistic models which explain the data generating process. Probabilistic data analyses in BayesDB are specified using an `MODELING SCHEMA`. The default model discovery engine in BayesDB is Cross-Categorization [(Crosscat)](http://jmlr.org/papers/v17/11-392.html). CrossCat is a Bayesian factorial mixture model which learns a full joint distribution over all variables in the population, using a divide-and-conquer approach. We will explore CrossCat more in this notebook.\n",
    "\n",
    "For now we use MML to declare the an analysis schema named `questionnaire_responses_m` for the `questionnaire_responses_population` population."
   ]
  },
  {
   "cell_type": "code",
   "execution_count": null,
   "metadata": {
    "scrolled": true
   },
   "outputs": [],
   "source": [
    "%%mml\n",
    "CREATE GENERATOR FOR \"questionnaire_responses_population\" USING loom;"
   ]
  },
  {
   "cell_type": "markdown",
   "metadata": {},
   "source": [
    "After creating the generator, we now need to initialize `MODELS` for the schema. We can think of a `MODEL` as specifying a hypothesis space of explanations for the data generating process for the population, and each `ANALYSIS` is a candidate hypothesis. We start by creating only 50 models, which are initialized __randomly__."
   ]
  },
  {
   "cell_type": "code",
   "execution_count": null,
   "metadata": {},
   "outputs": [],
   "source": [
    "%mml INITIALIZE 50 MODELS IF NOT EXISTS FOR \"questionnaire_responses_population\";"
   ]
  },
  {
   "cell_type": "markdown",
   "metadata": {},
   "source": [
    "Next, we run analysis for four hours."
   ]
  },
  {
   "cell_type": "code",
   "execution_count": null,
   "metadata": {},
   "outputs": [],
   "source": [
    "%mml ANALYZE \"questionnaire_responses_m\" FOR 240 MINUTES WAIT (OPTIMIZED);"
   ]
  },
  {
   "cell_type": "markdown",
   "metadata": {},
   "source": [
    "## 3. Exploring probable dependencies between variables and comparing CrossCat dependence probability to linear correlation"
   ]
  },
  {
   "cell_type": "markdown",
   "metadata": {},
   "source": [
    "As mentioned earlier, all BQL queries are aggregated across the 60 analyses in the ensemble. We will create a table named `dependencies` which contains the pairwise `DEPENDENCE PROBABILITY` values between the questionnaire variables. The value of a cell (between 0 and 1) is the fraction of analyses in the ensemble where those two variables are detected to be probably dependent (i.e. they are in the same view)."
   ]
  },
  {
   "cell_type": "code",
   "execution_count": null,
   "metadata": {},
   "outputs": [],
   "source": [
    "%%bql\n",
    "CREATE TABLE dependencies AS\n",
    "    ESTIMATE DEPENDENCE PROBABILITY AS \"depprob\"\n",
    "        FROM PAIRWISE VARIABLES OF questionnaire_responses_population;"
   ]
  },
  {
   "cell_type": "markdown",
   "metadata": {},
   "source": [
    "We again summarize the `dependencies` table using a heatmap. Study this dependence heatmap, and compare it to the heatmap produced when there was only 1 analysis. Which common-sense dependencies were missed by the single model, but identified by the ensemble as probably dependent?\n",
    "\n",
    "Find a full list of questionnaire items [here.](questionnaires-items.ipynb)"
   ]
  },
  {
   "cell_type": "code",
   "execution_count": null,
   "metadata": {},
   "outputs": [],
   "source": [
    "%bql .interactive_heatmap SELECT name0, name1, depprob FROM dependencies;"
   ]
  },
  {
   "cell_type": "markdown",
   "metadata": {},
   "source": [
    "Let us compare dependence probabilities from CrossCat to linear correlation values, a very common technique for finding predictive relationships. We can compute the (and its p-value) in BayesDB using the `CORRELATION` and `CORRELATION PVALUE` queries. The following cell creates a table named `correlations`, which contains the R and p-value for all pairs of variables."
   ]
  },
  {
   "cell_type": "code",
   "execution_count": null,
   "metadata": {},
   "outputs": [],
   "source": [
    "%%bql\n",
    "CREATE TABLE \"correlations\" AS\n",
    "ESTIMATE\n",
    "    CORRELATION AS \"correlation\",\n",
    "    CORRELATION PVALUE AS \"pvalue\"\n",
    "FROM PAIRWISE VARIABLES OF \"questionnaire_responses_population\""
   ]
  },
  {
   "cell_type": "markdown",
   "metadata": {},
   "source": [
    "__Emphasis__: There is a signficiant difference between `DEPENDENCE PROBABILITY`, `CORRELATION`, and `CORRELATION PVALUE`. We outline these differences below, which will help us make comparisons between predictive relationships detected by CrossCat versus Pearson correlation.\n",
    "\n",
    "- `DEPENDENCE PROBABILITY`: Returns a value between [0,1] indicating the __probability there exists__ a predictive relationship (statistical dependence) between two variables.\n",
    "\n",
    "- `CORRELATION`: Returns a value between [0,1] indicating the __strength__ of the linear relationsip between two variables, where 0 means no linear correlation, and 1 means perfect linear correlation.\n",
    "\n",
    "- `CORRELATION PVALUE`: Returns a value between (0, 1) indicating the tail probability of the observed correlation value between two variables, under the null hypothesis that the two variables have zero correlation.\n",
    "\n",
    "Based on these distinctions, there is no immediate way to numerically compare `DEPENDENCE PROBABILITY` with `CORRELATION/CORRELATION PVALUE`. However, it is possible to compare the inferences about predictive relationships that each method gives rise to, which we do in the next section."
   ]
  },
  {
   "cell_type": "markdown",
   "metadata": {},
   "source": [
    "Let us first produce a heatmap of the raw correlation values. The following query shows the raw correlation values (between 0 and 1) for all pairs of variables where the p-value is less than 0.01 (note that we are not accounting for multiple-testing using e.g. Bonferroni correction). Pairs of variables where the p-value exceeds 0.01 (and thus the null hypothesis of independence cannot be rejected) are shown in gray. The sparsity of the data makes it difficult to draw inferences about many variables."
   ]
  },
  {
   "cell_type": "code",
   "execution_count": null,
   "metadata": {},
   "outputs": [],
   "source": [
    "%bql .interactive_heatmap SELECT name0, name1, \"correlation\" FROM \"correlations\" WHERE \"pvalue\" < 0.1"
   ]
  },
  {
   "cell_type": "markdown",
   "metadata": {},
   "source": [
    "Explore the heatmap, and compare it to the heatmap from `DEPENDENCE PROBABILITY`. The patterns of dependence relationships differ significantly, how?\n",
    "\n",
    "We can use BQL to find variables which CrossCat believes are probably dependent, but correlation believes are independent (either the null hypothesis of independence cannot be rejected, or the correlation value is significant and near zero)."
   ]
  },
  {
   "cell_type": "code",
   "execution_count": null,
   "metadata": {},
   "outputs": [],
   "source": [
    "%%sql\n",
    "SELECT\n",
    "    \"name0\",\n",
    "    \"name1\",\n",
    "    \"dependencies\".\"depprob\",\n",
    "    \"correlations\".\"correlation\",\n",
    "    \"correlations\".\"pvalue\"\n",
    "FROM\n",
    "    \"dependencies\"\n",
    "    JOIN \"correlations\"\n",
    "    USING (\"name0\", \"name1\")\n",
    "WHERE\n",
    "    -- CrossCat: probability dependent.\n",
    "    \"dependencies\".\"depprob\" > 0.85\n",
    "    AND (\n",
    "    -- Correlation: cannot reject null hypothesis of independence.\n",
    "    \"correlations\".\"pvalue\" > 0.05\n",
    "    OR (\n",
    "    -- Correlation: linear relationship is significant and near zero.\n",
    "    \"correlations\".\"pvalue\" < 0.05 AND \"correlations\".\"correlation\" < 0.05))"
   ]
  },
  {
   "cell_type": "markdown",
   "metadata": {},
   "source": [
    "#### Quesstionnaire items\n",
    "- SWAN_06: engages in tasks that require sustained mental effort.\n",
    "- SDQ_25: Good attention span, sees chores or homework through to the end.\n",
    "- IAT_13: How often do you snap, yell, or act annoyed if someone bothers you while you are online\n",
    "\n",
    "Find a full list of questionnaire items [here.](questionnaires-items.ipynb)\n",
    "\n",
    "#### Example of no probability of dependence being high"
   ]
  },
  {
   "cell_type": "code",
   "execution_count": null,
   "metadata": {},
   "outputs": [],
   "source": [
    "%bql .show_histograms --table raw_questionnaire_responses --column1 SDQ_25 --column2 Sex"
   ]
  },
  {
   "cell_type": "markdown",
   "metadata": {},
   "source": [
    "We can use also BQL to find variables which CrossCat believes are probably independent, but correlation believes are dependent (a statistically significant non-zero correlation value, where we are using an R cutoff of 0.15). The following query shows a list of such variables."
   ]
  },
  {
   "cell_type": "code",
   "execution_count": null,
   "metadata": {},
   "outputs": [],
   "source": [
    "%%sql\n",
    "SELECT\n",
    "    \"name0\",\n",
    "    \"name1\",\n",
    "    \"dependencies\".\"depprob\",\n",
    "    \"correlations\".\"correlation\",\n",
    "    \"correlations\".\"pvalue\"\n",
    "FROM\n",
    "    \"dependencies\"\n",
    "    JOIN \"correlations\"\n",
    "    USING (\"name0\", \"name1\")\n",
    "WHERE\n",
    "    -- CrossCat: high uncertainty about dependence probability.\n",
    "    \"dependencies\".\"depprob\" < 0.05\n",
    "    AND (\n",
    "    -- Correlation: statistically significant dependence.\n",
    "    \"correlations\".\"pvalue\" < 0.05 AND \"correlations\".\"correlation\" > 0.15)\n",
    "LIMIT 10"
   ]
  },
  {
   "cell_type": "markdown",
   "metadata": {},
   "source": [
    "The top correlations with 0 probability of dependency are all taken from the\n",
    "Alabama Parenting Questionnaire (parent report):\n",
    "\n",
    "- APQ_P_11: You help your child with his/her homework\n",
    "- APQ_P_18: You hug or kiss your child when he/she has done something well\n",
    "- APQ_P_28: You don't check that your child comes home at the time he/she was supposed to\n",
    "- APQ_P_30: You don't check that your child comes home at the time he/she was supposed to\n",
    "- APQ_P_40: You calmly explain to your child why his/her behavior was wrong when he/she misbehaves\n",
    "- ...\n",
    "\n",
    "\n",
    "Find all the questions of all questionnaires [here.](questionnaires-items.ipynb)\n",
    "\n",
    "#### Example of probability of dependence being 0"
   ]
  },
  {
   "cell_type": "code",
   "execution_count": null,
   "metadata": {},
   "outputs": [],
   "source": [
    "%bql .show_histograms --table raw_questionnaire_responses --column1 APQ_P_28 --column2 Sex"
   ]
  },
  {
   "cell_type": "markdown",
   "metadata": {},
   "source": [
    "#### Quesstionnaire item\n",
    "- APQ_P_28: You don't check that your child comes home at the time he/she was supposed to"
   ]
  },
  {
   "cell_type": "markdown",
   "metadata": {},
   "source": [
    "## 4. Taking a closer look at dependencies and the CrossCat state\n",
    "\n",
    "### 4a. Listing variables probably dependent with autism diagnosis, ADHD diagnosis, anxiety diagnosis and age\n"
   ]
  },
  {
   "cell_type": "code",
   "execution_count": null,
   "metadata": {},
   "outputs": [],
   "source": [
    "%%bql\n",
    "SELECT * FROM \"dependencies\"\n",
    "    WHERE name0 = 'Autism'\n",
    "    ORDER BY depprob DESC\n",
    "    LIMIT 50"
   ]
  },
  {
   "cell_type": "code",
   "execution_count": null,
   "metadata": {},
   "outputs": [],
   "source": [
    "%%bql\n",
    "SELECT * FROM \"dependencies\"\n",
    "    WHERE name0 = 'ADHD'\n",
    "    ORDER BY depprob DESC\n",
    "    LIMIT 50"
   ]
  },
  {
   "cell_type": "code",
   "execution_count": null,
   "metadata": {},
   "outputs": [],
   "source": [
    "%%bql\n",
    "SELECT * FROM \"dependencies\"\n",
    "    WHERE name0 = 'Anxiety'\n",
    "    ORDER BY depprob DESC\n",
    "    LIMIT 50"
   ]
  },
  {
   "cell_type": "code",
   "execution_count": null,
   "metadata": {},
   "outputs": [],
   "source": [
    "%%bql\n",
    "SELECT * FROM \"dependencies\"\n",
    "    WHERE name0 = 'age'\n",
    "    ORDER BY depprob DESC\n",
    "    LIMIT 10"
   ]
  },
  {
   "cell_type": "markdown",
   "metadata": {},
   "source": [
    "Alabama Parenting Questionnaire (parent report)\n",
    "\n",
    "- apq_p_06:   You child fails to leave a note to let you know where he/she is going\n",
    "- apq_p_10:   Your child stays out in the evening past the time that he/she is supposed to be home\n",
    "- apq_p_11:   You help your child with his/her homework\n",
    "- apq_p_19:   Your child goed out with a set time to be home\n",
    "- apq_p_21:   Your child goes out after dark without an adult\n",
    "- apq_p_30:  Your child comes home from school more than an hour past the time you expect him/her to be home\n",
    "- apq_p_32:  Your child is at home without adult supervision\n",
    "\n",
    "\n",
    "Alabama Parenting Questionnaire (self report)\n",
    "\n",
    "- apq_sr_06:  You fail to leave a note or let your parents know where you are going\n",
    "- apq_sr_10:  You stay out in the evening past the time you are supposed to be home"
   ]
  },
  {
   "cell_type": "markdown",
   "metadata": {},
   "source": [
    "### 4b. Visualizing CrossCat states\n",
    "For simplicity, we now create a new, smaller population with the 110 variables above. We\n",
    "analyze again (which is much quicker now, because we have only a fraction of the column)\n",
    "and plot the individual crosscat states."
   ]
  },
  {
   "cell_type": "markdown",
   "metadata": {},
   "source": [
    "The full `raw_questionnaire_responses` table contains over 700 columns. In this notebook, our exploratory analysis will be based on a random subsample of 100 columns. To create the subsample, we use the `.subsample_columns` magic. The `--keep` flag accepts a list of column names which should be kept. We will keep the columns we found in the three tables above. Finally, `raw_questionnaire_responses_subsample` is the name of the new table, and 110 is the number of columns to downsample to."
   ]
  },
  {
   "cell_type": "code",
   "execution_count": null,
   "metadata": {},
   "outputs": [],
   "source": [
    "%bql .subsample_columns  raw_questionnaire_responses0 raw_questionnaire_responses_subsample 110 --seed=1 \\\n",
    "--keep EID Autism_Spectrum_Disorder Attention_Deficit_Hyperactivity_Disorder assq_03 assq_04 assq_09 assq_10 assq_11 assq_13 assq_14 assq_15 assq_16 assq_18 assq_19 assq_20 assq_21 assq_22 assq_23 assq_24 assq_26 assq_27 scq_03 scq_04 scq_06 scq_07 scq_08 scq_11 scq_12 scq_13 scq_14 scq_15 scq_16 assq_06 assq_07 assq_08 scq_09 scq_38 assq_17 scq_05 scq_19 assq_02 assq_05 assq_25 scared_p_08 scq_18 scq_33 assq_12 sdq_23 sdq_11 scq_17 scq_10 assq_01 sex sdq_02 sdq_10 sdq_21 swan_03 swan_10 swan_11 swan_12 swan_13 swan_14 swan_15 swan_16 swan_17 swan_18 sdq_15 sdq_25 swan_01 swan_02 swan_04 swan_05 swan_06 swan_07 swan_08 swan_09 psi_32 sdq_26 mfq_p_21 mfq_p_07 sas_01 sas_06 sas_07 sds_03 psi_29 psi_36 sas_02 sas_04 sas_05 sas_10 apq_p_37 ari_p_01 ari_p_02 ari_p_03 ari_p_05 ari_p_06 ari_p_07 mfq_p_11 psi_17 psi_28 age apq_p_06 apq_p_10 apq_p_11 apq_p_19 apq_p_21 apq_p_30 apq_p_32 apq_sr_06 apq_sr_10"
   ]
  },
  {
   "cell_type": "code",
   "execution_count": null,
   "metadata": {},
   "outputs": [],
   "source": [
    "%%mml\n",
    "CREATE POPULATION \"questionnaire_responses_subsample_population\" \n",
    "    FOR \"raw_questionnaire_responses_subsample\" WITH SCHEMA (\n",
    "        GUESS STATTYPES FOR (*);\n",
    "    );"
   ]
  },
  {
   "cell_type": "code",
   "execution_count": null,
   "metadata": {},
   "outputs": [],
   "source": [
    "%multiprocess on"
   ]
  },
  {
   "cell_type": "code",
   "execution_count": null,
   "metadata": {},
   "outputs": [],
   "source": [
    "%mml CREATE ANALYSIS SCHEMA \"questionnaire_responses_subsample_m\" FOR \"questionnaire_responses_subsample_population\" WITH BASELINE crosscat();\n",
    "%mml INITIALIZE 60 MODELS FOR \"questionnaire_responses_subsample_m\";"
   ]
  },
  {
   "cell_type": "markdown",
   "metadata": {},
   "source": [
    "Analysis is much quicker now since we are looking only at a fraction of all the columns.\n"
   ]
  },
  {
   "cell_type": "code",
   "execution_count": null,
   "metadata": {},
   "outputs": [],
   "source": [
    "%mml ANALYZE \"questionnaire_responses_subsample_m\" FOR 10 MINUTES WAIT (OPTIMIZED);"
   ]
  },
  {
   "cell_type": "markdown",
   "metadata": {},
   "source": [
    "#### Visualizing a CrossCat hypothesis"
   ]
  },
  {
   "cell_type": "markdown",
   "metadata": {},
   "source": [
    "As mentioned earlier, CrossCat learns the full joint distribution of all variables in the population using divide-and-conquer:\n",
    "\n",
    "- First, CrossCat partitions the variables into a set of _views_; all the variables in a particular view are modeled jointly, and two variables in different views are independent of one another.\n",
    "- Second, within each view, CrossCat clusters the rows using a non-parametric mixture model.\n",
    "\n",
    "The name Cross-Categorization is derived from this two-step process: first categorize the variables into views, and then categorize the rows into clusters within each view of variables. It is important to note that two different views A and B are likely to induce different clusterings of the rows.\n",
    "\n",
    "To get a sense of CrossCat's hypothesis space, we can render the hypothesis specified by a particular analysis using the `.render_crosscat [options] <analysis_schema> <analysis_identifier>` plotting command. The `--subsample=50` option says to only show a subsample of 50 rows in the rendering (even though `questionnaire_responses_subsample_m` is modeling all countries in the `childmind` population); `--rowlabels=country` specifies which column in the table to use to label the rows. Finally `questionnaire_responses_subsample_m 0` means to render the first (and only) analysis in the `questionnaire_responses_subsample_m` anlaysis schema.\n",
    "\n",
    "__To view a full-size image of the rendering, either double click the image, or right-click and select \"Open image in new tab.\"__"
   ]
  },
  {
   "cell_type": "code",
   "execution_count": null,
   "metadata": {},
   "outputs": [],
   "source": [
    "%mml .render_crosscat \\\n",
    "    --subsample=50 --rowlabels=EID --xticklabelsize=small --yticklabelsize=xx-small --progress=True --width=64 \\\n",
    "    questionnaire_responses_subsample_m 0"
   ]
  },
  {
   "cell_type": "markdown",
   "metadata": {},
   "source": [
    "## 5. Similarity of subjects in different contexts\n",
    "\n",
    "In the heatmap below, each row and column is a subject, and the value of a cell (between 0\n",
    "and 1) indicates the probability that those two subject are relevant for formulating\n",
    "predictions about each other. Do these clusters of subjects make sense?\n"
   ]
  },
  {
   "cell_type": "markdown",
   "metadata": {},
   "source": [
    "### 5a. Similarity with respect to diagnosis: autism"
   ]
  },
  {
   "cell_type": "code",
   "execution_count": null,
   "metadata": {},
   "outputs": [],
   "source": [
    "%%bql\n",
    "CREATE TABLE \"similarity_autism\" AS\n",
    "    ESTIMATE SIMILARITY IN THE CONTEXT OF \"Autism\"\n",
    "    FROM PAIRWISE \"questionnaire_responses_population\";"
   ]
  },
  {
   "cell_type": "code",
   "execution_count": null,
   "metadata": {},
   "outputs": [],
   "source": [
    "%bql .interactive_heatmap --label0=rowid --label1=EID --table=raw_questionnaire_responses\\\n",
    "    SELECT * FROM \"similarity_autism\""
   ]
  },
  {
   "cell_type": "markdown",
   "metadata": {},
   "source": [
    "### 5b. Similarity with respect to diagnosis: ADHD"
   ]
  },
  {
   "cell_type": "code",
   "execution_count": null,
   "metadata": {},
   "outputs": [],
   "source": [
    "%%bql\n",
    "CREATE TABLE \"similarity_adhd\" AS\n",
    "    ESTIMATE SIMILARITY IN THE CONTEXT OF \"ADHD\"\n",
    "    FROM PAIRWISE \"questionnaire_responses_population\";"
   ]
  },
  {
   "cell_type": "code",
   "execution_count": null,
   "metadata": {},
   "outputs": [],
   "source": [
    "%bql .interactive_heatmap --label0=rowid --label1=EID --table=raw_questionnaire_responses \\\n",
    "    SELECT * FROM \"similarity_adhd\""
   ]
  },
  {
   "cell_type": "markdown",
   "metadata": {},
   "source": [
    "### 5c. Similarity with respect to a specific item in autism screening questionnaire\n",
    "- ASSQ_6 (Autism Spectrum Screening Questionnaire): Child has a deviant style of communication with a formal, fussy, old-fashioned or robotlike language (i.e. talks differently than other children, in a formal or stilted way)"
   ]
  },
  {
   "cell_type": "code",
   "execution_count": null,
   "metadata": {},
   "outputs": [],
   "source": [
    "%%bql\n",
    "CREATE TABLE \"similarity_assq_06\" AS\n",
    "    ESTIMATE SIMILARITY IN THE CONTEXT OF \"ASSQ_06\"\n",
    "    FROM PAIRWISE \"questionnaire_responses_population\";"
   ]
  },
  {
   "cell_type": "code",
   "execution_count": null,
   "metadata": {},
   "outputs": [],
   "source": [
    "%bql .interactive_heatmap --label0=rowid --label1=EID --table=raw_questionnaire_responses \\\n",
    "    SELECT * FROM \"similarity_assq_06\""
   ]
  }
 ],
 "metadata": {
  "kernelspec": {
   "display_name": "Python 2",
   "language": "python",
   "name": "python2"
  },
  "language_info": {
   "codemirror_mode": {
    "name": "ipython",
    "version": 2
   },
   "file_extension": ".py",
   "mimetype": "text/x-python",
   "name": "python",
   "nbconvert_exporter": "python",
   "pygments_lexer": "ipython2",
   "version": "2.7.11"
  }
 },
 "nbformat": 4,
 "nbformat_minor": 2
}
