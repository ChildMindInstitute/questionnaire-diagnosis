{
 "cells": [
  {
   "cell_type": "markdown",
   "metadata": {},
   "source": [
    "### Notebook to combine and subset MRI features for BayesDB analysis."
   ]
  },
  {
   "cell_type": "code",
   "execution_count": null,
   "metadata": {},
   "outputs": [],
   "source": [
    "import pandas as pd"
   ]
  },
  {
   "cell_type": "code",
   "execution_count": null,
   "metadata": {},
   "outputs": [],
   "source": [
    "mri = pd.read_csv(\n",
    "    \"train_test_data/all_MRI_features.csv\"\n",
    ") # MRI features\n",
    "qdf = pd.read_csv(\n",
    "    \"train_test_data/drop_aggregates.csv\"\n",
    ")\n",
    "qdf=qdf.drop_duplicates(\"EID\") # questionnaire features\n",
    "print(mri.shape)\n",
    "print(qdf.shape)"
   ]
  },
  {
   "cell_type": "code",
   "execution_count": null,
   "metadata": {},
   "outputs": [],
   "source": [
    "regions = {\n",
    "    'caudalanteriorcingulate',\n",
    "    'caudalmiddlefrontal',\n",
    "    'cuneus',\n",
    "    'entorhinal',\n",
    "    'fusiform',\n",
    "    'inferiorparietal',\n",
    "    'inferiortemporal',\n",
    "    'insula',\n",
    "    'isthmuscingulate',\n",
    "    'lateraloccipital',\n",
    "    'lateralorbitofrontal',\n",
    "    'lingual',\n",
    "    'medialorbitofrontal',\n",
    "    'middletemporal',\n",
    "    'paracentral',\n",
    "    'parahippocampal',\n",
    "    'parsopercularis',\n",
    "    'parsorbitalis',\n",
    "    'parstriangularis',\n",
    "    'pericalcarine',\n",
    "    'postcentral',\n",
    "    'posteriorcingulate',\n",
    "    'precentral',\n",
    "    'precuneus',\n",
    "    'rostralanteriorcingulate',\n",
    "    'rostralmiddlefrontal',\n",
    "    'superiorfrontal',\n",
    "    'superiorparietal',\n",
    "    'superiortemporal',\n",
    "    'supramarginal',\n",
    "    'transversetemporal'\n",
    "}"
   ]
  },
  {
   "cell_type": "markdown",
   "metadata": {},
   "source": [
    "See what underscore-delimited keywords we have in our feature set:"
   ]
  },
  {
   "cell_type": "code",
   "execution_count": null,
   "metadata": {},
   "outputs": [],
   "source": [
    "{thing.lower().replace(\"-\", \" \") for feature in list(mri.columns) for thing in feature.split(\"_\")}"
   ]
  },
  {
   "cell_type": "markdown",
   "metadata": {},
   "source": [
    "Features to focus on per Arno:\n",
    "```Python\n",
    "{'area', 'travel-depth', 'freesurfer-thickness', 'mean-curvature', 'volume', 'median', 'mad', 'laplace-beltrami-spectrum', 'zernike-moments'}\n",
    "```\n",
    "---\n",
    "Features to ignore per Arno:\n",
    "```Python\n",
    "{'vessel', 'lesion', 'ants', 'geodesic', 'freesurfer-depth'}\n",
    "```"
   ]
  },
  {
   "cell_type": "code",
   "execution_count": null,
   "metadata": {},
   "outputs": [],
   "source": [
    "mri_subset = mri[[\"EID\"]].copy() # start with just EIDs\n",
    "mri_subset = mri_subset.assign(\n",
    "    left_cortical_grey_matter_volume=mri[\n",
    "        [\n",
    "            c for c in mri.columns if \\\n",
    "            \"volume_per_freesurfer\" in c and \\\n",
    "            \"ctx-lh\" in c\n",
    "        ]\n",
    "    ].sum(axis=1), # add left cortical grey matter volume\n",
    "    right_cortical_grey_matter_volume=mri[\n",
    "        [\n",
    "            c for c in mri.columns if \\\n",
    "            \"volume_per_freesurfer\" in c and \\\n",
    "            \"ctx-rh\" in c\n",
    "        ]\n",
    "    ].sum(axis=1), # add right cortical grey matter volume\n",
    "    left_cortical_white_matter_volume=mri[\n",
    "        [\n",
    "            c for c in mri.columns if \\\n",
    "            \"volume_per_freesurfer\" in c and \\\n",
    "            \"wm-lh\" in c\n",
    "        ]\n",
    "    ].sum(axis=1), # add left cortical white matter volume\n",
    "    right_cortical_white_matter_volume=mri[\n",
    "        [\n",
    "            c for c in mri.columns if \\\n",
    "            \"volume_per_freesurfer\" in c and \\\n",
    "            \"wm-rh\" in c\n",
    "        ]\n",
    "    ].sum(axis=1), # add right cortical white matter volume\n",
    "    csf_volume=mri[\n",
    "        'volume_volume_per_freesurfer_label_CSF_ID'\n",
    "    ], # add CSF volume\n",
    "    whole_brain_volume=mri[\n",
    "        [\n",
    "            c for c in mri.columns if \\\n",
    "            \"volume_per_freesurfer\" in c\n",
    "        ]\n",
    "    ].sum(axis=1) # add whole brain volume\n",
    ")\n",
    "mri_subset = pd.concat(\n",
    "    [\n",
    "        mri_subset,\n",
    "        pd.DataFrame(\n",
    "            [pd.Series(\n",
    "                mri[\n",
    "                    [\n",
    "                        c for c in mri.columns if \\\n",
    "                        \"{0}: {1}_{2}\".format(\n",
    "                            feature,\n",
    "                            statistic,\n",
    "                            hemisphere\n",
    "                        ) in c and \"ctx-{0}h-{1}\".format(\n",
    "                            hemisphere[0],\n",
    "                            region\n",
    "                        ) in c\n",
    "                    ]\n",
    "                ].sum(axis=1),\n",
    "                name=\"{1}_{2}_{3}_{0}\".format(\n",
    "                    \"-\".join(\n",
    "                        feature.split(\" \")\n",
    "                    ),\n",
    "                    statistic,\n",
    "                    hemisphere,\n",
    "                    region\n",
    "                )\n",
    "            ) for feature in [\n",
    "                \"freesurfer thickness\",\n",
    "                \"travel depth\"\n",
    "            ] for statistic in [\n",
    "                \"median\",\n",
    "                \"MAD\"\n",
    "            ] for hemisphere in [\n",
    "                \"left\",\n",
    "                \"right\"\n",
    "            ] for region in regions]\n",
    "        ).T, # add thickness and depth medians and MADs for all cortical regions\n",
    "        pd.DataFrame(\n",
    "            [pd.Series(\n",
    "                mri[\n",
    "                    [c for c in mri.columns if \"{0}_{1}\".format(\n",
    "                feature,\n",
    "                hemisphere\n",
    "                    ) in c and \"ctx-{0}h\".format(\n",
    "                        hemisphere[0],\n",
    "                        region\n",
    "                    ) in c]\n",
    "                ].sum(axis=1),\n",
    "                name=\"{1}_{2}_{0}\".format(\n",
    "                    \"-\".join(\n",
    "                        feature.split(\" \")\n",
    "                    ),\n",
    "                    hemisphere,\n",
    "                    region\n",
    "                )\n",
    "            ) for feature in [\n",
    "                \"area\"\n",
    "            ] for hemisphere in [\n",
    "                \"left\",\n",
    "                \"right\"\n",
    "            ] for region in regions]\n",
    "        ).T, # add area for all cortical regions\n",
    "        pd.DataFrame(\n",
    "            [pd.Series(\n",
    "                mri[\n",
    "                    [\n",
    "                        c for c in mri.columns if \\\n",
    "                        feature in c and \\\n",
    "                        region in c and \\\n",
    "                        hemisphere in c\n",
    "                    ]\n",
    "                ].sum(axis=1),\n",
    "                name=\"{1}_{0}_{2}\".format(\n",
    "                    \"-\".join(\n",
    "                        region.split(\"_\")\n",
    "                    ),\n",
    "                    hemisphere,\n",
    "                    \"-\".join(\n",
    "                        feature.split(\"_\")\n",
    "                    )\n",
    "                ).lower()\n",
    "            ) for region in [\n",
    "                \"Amygdala\",\n",
    "                \"Acumbens\",\n",
    "                \"Caudate\",\n",
    "                \"Cerebral-White-Matter\",\n",
    "                \"Hippocampus\",\n",
    "                \"Pallidum\",\n",
    "                \"Putamen\",\n",
    "                \"Thalamus\",\n",
    "                \"UnsegmentedWhiteMatter\"\n",
    "            ] for hemisphere in [\n",
    "                \"Left\",\n",
    "                \"Right\"\n",
    "            ] for feature in [\n",
    "                \"volume_per_freesurfer_label\"\n",
    "            ]]\n",
    "        ).T # add volumes for subcortical regions\n",
    "    ],\n",
    "    axis=1\n",
    ")"
   ]
  },
  {
   "cell_type": "code",
   "execution_count": null,
   "metadata": {},
   "outputs": [],
   "source": [
    "mri_subset.shape"
   ]
  },
  {
   "cell_type": "code",
   "execution_count": null,
   "metadata": {},
   "outputs": [],
   "source": [
    "mri_subset[\"EID\"] = mri_subset.EID.str.encode(\"UTF-8\").str.decode(\"UTF-8\")\n",
    "qdf[\"EID\"] = qdf.EID.str.encode(\"UTF-8\").str.decode(\"UTF-8\")"
   ]
  },
  {
   "cell_type": "code",
   "execution_count": null,
   "metadata": {},
   "outputs": [],
   "source": [
    "only_one_value = {c for c in mri_subset.columns if mri_subset[c].nunique()==1}\n",
    "print(only_one_value)"
   ]
  },
  {
   "cell_type": "code",
   "execution_count": null,
   "metadata": {},
   "outputs": [],
   "source": [
    "mri_subset.drop(\n",
    "    only_one_value,\n",
    "    axis=1,\n",
    "    inplace=True\n",
    ")"
   ]
  },
  {
   "cell_type": "code",
   "execution_count": null,
   "metadata": {},
   "outputs": [],
   "source": [
    "mri_subset.shape"
   ]
  },
  {
   "cell_type": "code",
   "execution_count": null,
   "metadata": {},
   "outputs": [],
   "source": [
    "mri_subset.to_csv(\n",
    "    \"train_test_data/mri_subset.csv\",\n",
    "    index=False\n",
    ")"
   ]
  },
  {
   "cell_type": "code",
   "execution_count": null,
   "metadata": {},
   "outputs": [],
   "source": [
    "qdf"
   ]
  },
  {
   "cell_type": "code",
   "execution_count": null,
   "metadata": {},
   "outputs": [],
   "source": [
    "qdf = qdf.merge(\n",
    "    mri_subset,\n",
    "    on=\"EID\",\n",
    "    how=\"outer\"\n",
    ")\n",
    "qdf = qdf.drop(\n",
    "    [\n",
    "        col for col in qdf if \\\n",
    "        \"IAT_\" in col or \\\n",
    "        col==\"Dx\"\n",
    "    ],\n",
    "    axis=1\n",
    ")"
   ]
  },
  {
   "cell_type": "code",
   "execution_count": null,
   "metadata": {},
   "outputs": [],
   "source": [
    "qdf.to_csv(\n",
    "    \"train_test_data/questions_and_mri_regions.csv\",\n",
    "    index=False\n",
    ")"
   ]
  },
  {
   "cell_type": "code",
   "execution_count": null,
   "metadata": {},
   "outputs": [],
   "source": [
    "len(qdf.EID.unique())"
   ]
  },
  {
   "cell_type": "code",
   "execution_count": null,
   "metadata": {},
   "outputs": [],
   "source": [
    "len(mri.EID.unique())"
   ]
  },
  {
   "cell_type": "code",
   "execution_count": null,
   "metadata": {},
   "outputs": [],
   "source": [
    "mri_subset[mri_subset[\"EID\"]==\"NDARZY668NMV\"]"
   ]
  },
  {
   "cell_type": "code",
   "execution_count": null,
   "metadata": {},
   "outputs": [],
   "source": []
  }
 ],
 "metadata": {
  "kernelspec": {
   "display_name": "Python 3",
   "language": "python",
   "name": "python3"
  },
  "language_info": {
   "codemirror_mode": {
    "name": "ipython",
    "version": 3
   },
   "file_extension": ".py",
   "mimetype": "text/x-python",
   "name": "python",
   "nbconvert_exporter": "python",
   "pygments_lexer": "ipython3",
   "version": "3.6.3"
  }
 },
 "nbformat": 4,
 "nbformat_minor": 2
}
