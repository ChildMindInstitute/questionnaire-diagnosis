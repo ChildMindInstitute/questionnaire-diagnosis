{
 "cells": [
  {
   "cell_type": "markdown",
   "metadata": {},
   "source": [
    "# Question: in which setting (wrt columns) does it make sense to compute conditional entropy ?\n",
    "\n",
    "### Context: use difference in conditional entropy as a metric to shorten a questionnaire.\n",
    "\n",
    "I got quite confused about the metric that I am supposed to implement.\n",
    "\n",
    "##### Since:\n",
    "\n",
    "$\\text{MI}(X; Y)  = \\text{H}(X) - \\text{H}(X \\mid Y)$\n",
    "\n",
    "$\\text{MI}(X; X) = \\text{H}(X)$\n",
    "\n",
    "$\\text{MI}(X; X) - \\text{MI}(X; Y) = \\text{H}(X \\mid Y)$\n",
    "\n",
    "Conditional entropy $\\text{H}(X \\mid Y) = 0$ if and only if the value of $X$ is \n",
    "completely determined by the value of $Y$. \n",
    "\n",
    "Assuming that:\n",
    "- $T$ is the target diagnostic;\n",
    "- $C_{prev}$ is the set of all previously selected columns; and\n",
    "- $c_{new}$ is the next column we wish to add to the shortened questionnaire."
   ]
  },
  {
   "cell_type": "markdown",
   "metadata": {},
   "source": [
    "#### Option 1: $ argmin_{c_{new}}\\bigg(H(T \\mid C_{prev}, c_{new} ) - H(T \\mid\n",
    "C_{prev} )\\bigg) = argmax_{c_{new}}\\bigg(\\text{MI}(T; \\{C_{prev}, c_{new}\\})\\bigg)$\n",
    "\n",
    "In this case, we need to compute $argmin_{c_{new}}$ of the following term:\n",
    "\n",
    "$ H(T \\mid C_{prev}, c_{new} ) - H(T \\mid C_{prev} )$\n",
    "\n",
    "Only the first part depends on $c_{new}$, thus we compute argmin of \n",
    "\n",
    "$ H(T \\mid C_{prev}, c_{new} )$\n",
    "\n",
    "$= \\text{MI}(T; T) - \\text{MI}(T; \\{C_{prev}, c_{new}\\})$\n",
    "\n",
    "Thus, we need to compute the argmax of \n",
    "\n",
    "$\\text{MI}(T; \\{C_{prev}, c_{new}\\})$.\n",
    "\n",
    "Now, I guess that if this was what VKM had in mind then he hadn't taked about conditional entropy in the first place.\n",
    "\n",
    "#### Option 2: $argmin_{c_{new}}\\bigg(H(C_{prev}, c_{new} \\mid T) - H(C_{prev}\\mid T)\\bigg)$\n",
    "\n",
    "\n",
    "Again, only the first part relies on $c_{new}$, thus we compute argmin of $ H(T \\mid C_{prev}, c_{new} )$:\n",
    "\n",
    "$H(C_{prev}, c_{new} \\mid T)$\n",
    "\n",
    "$= \\text{MI}(\\{C_{prev}, c_{new}\\}; \\{C_{prev}, c_{new}\\}) - \\text{MI}(\\{C_{prev}, c_{new}\\}; T\\})$\n",
    "\n",
    "#### Option 3: $argmin_{c_{new}}\\bigg(H(C_{prev}, c_{new} \\mid T) - H(c_{new} \\mid T)\\bigg)$\n",
    "\n",
    "$= \\text{MI}(\\{C_{prev}, c_{new}\\}; \\{C_{prev}, c_{new}\\}) - \\text{MI}(\\{C_{prev}, c_{new}\\}; T\\})\n",
    "- \\text{MI}(c_{new}; c_{new}) - \\text{MI}(c_{new}; T\\})\n",
    "$\n",
    "\n",
    "#### Option 4: $argmin_{c_{new}}\\bigg(  H(T \\mid C_{prev}, c_{new} ) - H(T \\mid c_{new} ) \\bigg)$\n",
    "\n",
    "$H(T \\mid C_{prev}, c_{new} ) - H(T \\mid c_{new} ) = MI(T; c_{new}) - MI(T; \\{c_{new}, C_{prev}\\})$\n",
    "\n",
    "### Decision: option 2.\n",
    "\n",
    "While, strictly speaking, this is not optimizing a difference of conditional\n",
    "entropy, it expresses the flow in causal information as one would expect in\n",
    "terms entropies with prior and conditional probability tables (diseases are causing symptoms).\n",
    "\n",
    "Also, this metric seems simpler than 3 and 4."
   ]
  }
 ],
 "metadata": {
  "kernelspec": {
   "display_name": "Python 2",
   "language": "python",
   "name": "python2"
  },
  "language_info": {
   "codemirror_mode": {
    "name": "ipython",
    "version": 2
   },
   "file_extension": ".py",
   "mimetype": "text/x-python",
   "name": "python",
   "nbconvert_exporter": "python",
   "pygments_lexer": "ipython2",
   "version": "2.7.12"
  }
 },
 "nbformat": 4,
 "nbformat_minor": 2
}
