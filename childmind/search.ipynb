{
 "cells": [
  {
   "cell_type": "markdown",
   "metadata": {},
   "source": [
    "<img src=\"resources/header.png\"/>"
   ]
  },
  {
   "cell_type": "markdown",
   "metadata": {},
   "source": [
    "# Search for relevant children in the questionnaire responses\n",
    "\n",
    "Authored by: Ulrich Schaechtle and Veronica Sara Weiner of the MIT Probabilistic Computing Project (Probcomp). Prepared for: meeting with Arno Klein and Jon Clucas of the Child Mind institute.\n",
    "\n",
    "This notebook seeks to demonstrate how one can find interesting cases in the data table.\n",
    "\n",
    "\n",
    "## Outline\n",
    "1. Load pre-analyzed database with BayesDB\n",
    "2. Find children with autism diagnosed, ASSQ_10=2 AND ASSQ_11=2"
   ]
  },
  {
   "cell_type": "markdown",
   "metadata": {},
   "source": [
    "## 1. Load pre-analyzed database with BayesDB"
   ]
  },
  {
   "cell_type": "markdown",
   "metadata": {},
   "source": [
    "### Setting up the Jupyter environment"
   ]
  },
  {
   "cell_type": "markdown",
   "metadata": {},
   "source": [
    "The first step is to load the `jupyter_probcomp.magics` library, which provides BayesDB hooks for data exploration, plotting, querying, and analysis through this Jupyter notebook environment. The second cell allows plots from matplotlib and javascript to be shown inline."
   ]
  },
  {
   "cell_type": "code",
   "execution_count": null,
   "metadata": {},
   "outputs": [],
   "source": [
    "%load_ext jupyter_probcomp.magics"
   ]
  },
  {
   "cell_type": "code",
   "execution_count": null,
   "metadata": {},
   "outputs": [],
   "source": [
    "%matplotlib inline\n",
    "%vizgpm inline"
   ]
  },
  {
   "cell_type": "markdown",
   "metadata": {},
   "source": [
    "#### Loading a BayesDB `.bdb` file on disk"
   ]
  },
  {
   "cell_type": "markdown",
   "metadata": {},
   "source": [
    "We next use the `%bayesdb` magic to create a `.bdb` file on disk named `questionnaire.bdb`. This file will store all the data and models created in this session."
   ]
  },
  {
   "cell_type": "code",
   "execution_count": null,
   "metadata": {},
   "outputs": [],
   "source": [
    "%bayesdb resources/bdb/questionnaire_shortening_vsw.bdb"
   ]
  },
  {
   "cell_type": "markdown",
   "metadata": {},
   "source": [
    "Ensure multiprocessing is off. The capabilities demonstrated below are not run in\n",
    "parallel."
   ]
  },
  {
   "cell_type": "code",
   "execution_count": null,
   "metadata": {},
   "outputs": [],
   "source": [
    "%multiprocess of"
   ]
  },
  {
   "cell_type": "markdown",
   "metadata": {},
   "source": [
    "## 2. Find children with autism diagnosed, ASSQ_10=2 AND ASSQ_11=2"
   ]
  },
  {
   "cell_type": "code",
   "execution_count": null,
   "metadata": {},
   "outputs": [],
   "source": [
    "%%bql\n",
    "SELECT \"EID\" FROM raw_questionnaire_responses WHERE \n",
    "    \"Autism Spectrum Disorder\" = True AND\n",
    "    \"ASSQ_10\" = 2 AND\n",
    "    \"ASSQ_11\" = 2\n",
    "    LIMIT 5"
   ]
  },
  {
   "cell_type": "code",
   "execution_count": null,
   "metadata": {},
   "outputs": [],
   "source": [
    "%%bql\n",
    "CREATE TABLE \"relevance_autism_disorder\" AS\n",
    "    ESTIMATE\n",
    "        \"EID\",\n",
    "        PREDICTIVE RELEVANCE\n",
    "            TO EXISTING ROWS (\n",
    "                EID='NDARAG139HKA' AND\n",
    "                ASSQ_10=2 AND\n",
    "                ASSQ_11=2)\n",
    "            IN THE CONTEXT OF \"Autism Spectrum Disorder\"\n",
    "            AS \"Relevance to NDARAG139HKA (Autism)\"\n",
    "    FROM \"questionnaire_responses_population\"\n",
    "    ORDER BY \"Relevance to NDARAG139HKA (Autism)\"\n",
    "    DESC LIMIT 10"
   ]
  },
  {
   "cell_type": "code",
   "execution_count": null,
   "metadata": {},
   "outputs": [],
   "source": [
    "%%bql\n",
    ".interactive_bar \n",
    "    SELECT * FROM \"relevance_autism_disorder\""
   ]
  },
  {
   "cell_type": "code",
   "execution_count": null,
   "metadata": {},
   "outputs": [],
   "source": [
    "%%bql\n",
    "SELECT * FROM raw_questionnaire_responses WHERE EID in (\n",
    "   SELECT \"EID\" FROM \"relevance_autism_disorder\"\n",
    ")"
   ]
  },
  {
   "cell_type": "markdown",
   "metadata": {},
   "source": [
    "Scroll to the right to see the diagnostics."
   ]
  }
 ],
 "metadata": {
  "kernelspec": {
   "display_name": "Python 2",
   "language": "python",
   "name": "python2"
  },
  "language_info": {
   "codemirror_mode": {
    "name": "ipython",
    "version": 2
   },
   "file_extension": ".py",
   "mimetype": "text/x-python",
   "name": "python",
   "nbconvert_exporter": "python",
   "pygments_lexer": "ipython2",
   "version": "2.7.12"
  }
 },
 "nbformat": 4,
 "nbformat_minor": 2
}
